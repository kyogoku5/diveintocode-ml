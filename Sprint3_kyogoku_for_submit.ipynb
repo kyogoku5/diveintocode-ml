{
 "cells": [
  {
   "cell_type": "markdown",
   "metadata": {},
   "source": [
    "# ■Sprint3 - 機械学習スクラッチ - 線形回帰"
   ]
  },
  {
   "cell_type": "markdown",
   "metadata": {},
   "source": [
    "# 採点よろしくお願いします！！ m(_ _)m\n",
    "問題は下に記載しています！"
   ]
  },
  {
   "cell_type": "code",
   "execution_count": 13,
   "metadata": {},
   "outputs": [],
   "source": [
    "import numpy as np"
   ]
  },
  {
   "cell_type": "code",
   "execution_count": 56,
   "metadata": {},
   "outputs": [],
   "source": [
    "class ScratchLinearRegression():\n",
    "    \"\"\"\n",
    "    線形回帰のスクラッチ実装\n",
    "\n",
    "    Parameters\n",
    "    ----------\n",
    "    num_iter : int\n",
    "      イテレーション数\n",
    "    lr : float\n",
    "      学習率\n",
    "    no_bias : bool\n",
    "      バイアス項を入れない場合はTrue\n",
    "    verbose : bool\n",
    "      学習過程を出力する場合はTrue\n",
    "\n",
    "    Attributes\n",
    "    ----------\n",
    "    self.coef_ : 次の形のndarray, shape (n_features,)\n",
    "      パラメータ\n",
    "    self.loss : 次の形のndarray, shape (self.iter,)\n",
    "      学習用データに対する損失の記録\n",
    "    self.val_loss : 次の形のndarray, shape (self.iter,)\n",
    "      検証用データに対する損失の記録\n",
    "\n",
    "    \"\"\"\n",
    "\n",
    "    def __init__(self, num_iter=5000, lr=0.000000008, bias=True, verbose=False):\n",
    "        # ハイパーパラメータを属性として記録\n",
    "        \n",
    "        #実行回数\n",
    "        self.iter = num_iter\n",
    "        #学習率\n",
    "        self.lr = lr\n",
    "        #バイアス項を入れない場合はTrue\n",
    "        self.bias = bias\n",
    "        #学習過程を出力する場合はTrue\n",
    "        self.verbose = verbose\n",
    "        # 損失を記録する配列を用意\n",
    "        self.loss = np.zeros(self.iter)\n",
    "        self.val_loss = np.zeros(self.iter)\n",
    "        #パラメーターシータ\n",
    "        self.theta = None\n",
    "        #仮定関数\n",
    "        self.h = None\n",
    "        \n",
    "    def _linear_hypothesis(self,X):\n",
    "        #ドット積はかける順番に注意\n",
    "        self.h = np.dot(X,self.theta)\n",
    "        \n",
    "        #※転置してかけた場合もも同じ結果になる\n",
    "        #self.h = np.dot(self.theta,X.T)        \n",
    "        return self.h\n",
    "    \n",
    "    def _get_error(self,y):\n",
    "        return self.h-y\n",
    "        \n",
    "    def _gradient_descent(self,X,error):\n",
    "        m = X.shape[0]\n",
    "        #selfがある関係で更新されていくから下記はなくてもいい\n",
    "        self.theta = self.theta - self.lr * np.dot(self.error,X ) / m\n",
    "        #print(self.theta.shape)\n",
    "        return self.theta\n",
    "   \n",
    "    def _purpose_function(self,y,y_pred):\n",
    "        m = X.shape[0]\n",
    "        #ここで2乗しているのは差分は絶対値の差で\n",
    "        #計算しないと足し合わせた際に相殺されてしまう可能性があるから\n",
    "        return np.sum((self.y_pred - y)**2) / (2*m)\n",
    "    \n",
    "    def _get_MSE(self , y , y_pred):\n",
    "        m = X.shape[0]\n",
    "        return  np.sum((self.y_pred - y)**2) / m\n",
    "\n",
    "    def _get_predict(self, X):\n",
    "        self.y_pred = self._linear_hypothesis(X)\n",
    "        return self.y_pred\n",
    "\n",
    "    def fit(self, X, y, X_val=None, y_val=None):\n",
    "        \"\"\"\n",
    "        Parameters\n",
    "        ----------\n",
    "        X : 次の形のndarray, shape (n_samples, n_features)\n",
    "            学習用データの特徴量\n",
    "        y : 次の形のndarray, shape (n_samples, )\n",
    "            学習用データの正解値\n",
    "        X_val : 次の形のndarray, shape (n_samples, n_features)\n",
    "            検証用データの特徴量\n",
    "        y_val : 次の形のndarray, shape (n_samples, )\n",
    "            検証用データの正解値\n",
    "        \"\"\"\n",
    "        #クラスを生成する時にバイアス(切片)の有無を設定する\n",
    "        #初期値はTrue=切片あり\n",
    "        if self.bias:\n",
    "            #Xが特徴量でそれにパラメータを掛け合わせる\n",
    "            #θ0X0+θ1X1+θ2X2・・・と続いていくが\n",
    "            #特徴量の影響を受けないのでX0=1を0行目に挿入する\n",
    "            X=np.insert(X,0,1,axis=1)\n",
    "            #本番の訓練データも同様に要素を追加する\n",
    "            if X_val is not None:\n",
    "                 X_val =np.insert(X_val,0,1,axis=1)\n",
    "\n",
    "        #まず特徴量分(+切片)分のシータを生成する\n",
    "        self.theta = np.random.rand(X.shape[1])\n",
    "        \n",
    "        #下記の処理をインスタンス時に設定した実行回数繰り返す\n",
    "        for i in range(self.iter):\n",
    "            #仮定関数を作成\n",
    "            self._linear_hypothesis(X)\n",
    "            #仮定関数の計算結果と実際のyの差分を求める\n",
    "            self.error = self._get_error(y)\n",
    "            #勾配降下法を使ってθを更新する処理を行う\n",
    "            self._gradient_descent(X,self.error)\n",
    "            #yの予測値をy_predとする。仮定関数を使って予測値を算出\n",
    "            self.y_pred = self._get_predict(X)\n",
    "    \n",
    "            #今回の目的関数(yの予測値-実際のy)差分を最小にしたい\n",
    "            self.purpose = self._purpose_function(y,self.y_pred)\n",
    "            self.loss[i] = self.purpose\n",
    "\n",
    "            if X_val is not None:\n",
    "                #self.h = self._linear_hypothesis(X)\n",
    "                self.y_pred_val = self._get_predict(X_val)\n",
    "                self.purpose2 = self._purpose_function(y_val,self.y_pred_val)\n",
    "                self.val_loss[i] = self.purpose2\n",
    "\n",
    "        if self.verbose:\n",
    "        #verboseをTrueにした際は学習過程を出力\n",
    "            print(self.loss)"
   ]
  },
  {
   "cell_type": "code",
   "execution_count": 70,
   "metadata": {},
   "outputs": [],
   "source": [
    "def MSE(y_pred, y):\n",
    "    \"\"\"\n",
    "    平均二乗誤差の計算\n",
    "\n",
    "    Parameters\n",
    "    ----------\n",
    "    y_pred : 次の形のndarray, shape (n_samples,)\n",
    "      推定した値\n",
    "    y : 次の形のndarray, shape (n_samples,)\n",
    "      正解値\n",
    "\n",
    "    Returns\n",
    "    ----------\n",
    "    mse : numpy.float\n",
    "      平均二乗誤差\n",
    "    \"\"\"\n",
    "    m = ypred.shape[0]\n",
    "    mse = np.sum((self.y_pred - y)**2) / m\n",
    "    \n",
    "    pass\n",
    "    return mse"
   ]
  },
  {
   "cell_type": "markdown",
   "metadata": {},
   "source": [
    "## 【問題1】仮定関数"
   ]
  },
  {
   "cell_type": "markdown",
   "metadata": {},
   "source": [
    "def _linear_hypothesis(self,X):\n",
    "\n",
    "箇所です。切片の有無の処理はfitで行いました。"
   ]
  },
  {
   "cell_type": "markdown",
   "metadata": {},
   "source": [
    "## 【問題2】最急降下法"
   ]
  },
  {
   "cell_type": "markdown",
   "metadata": {},
   "source": [
    "def _gradient_descent(self,X,error):\n",
    "箇所です！"
   ]
  },
  {
   "cell_type": "markdown",
   "metadata": {},
   "source": [
    "## 【問題3】推定"
   ]
  },
  {
   "cell_type": "markdown",
   "metadata": {},
   "source": [
    "def _get_predict(self, X):箇所です！"
   ]
  },
  {
   "cell_type": "markdown",
   "metadata": {},
   "source": [
    "## 【問題4】平均二乗誤差"
   ]
  },
  {
   "cell_type": "markdown",
   "metadata": {},
   "source": [
    "def MSE(y_pred, y):\n",
    "というメソッドをクラスの外に作成しました。"
   ]
  },
  {
   "cell_type": "markdown",
   "metadata": {},
   "source": [
    "## 【問題5】目的関数"
   ]
  },
  {
   "cell_type": "markdown",
   "metadata": {},
   "source": [
    " def _purpose_function(self,y,y_pred):\n",
    " を実装しした！"
   ]
  },
  {
   "cell_type": "markdown",
   "metadata": {},
   "source": [
    "## 【問題6】学習と推定"
   ]
  },
  {
   "cell_type": "code",
   "execution_count": 71,
   "metadata": {},
   "outputs": [
    {
     "data": {
      "text/html": [
       "<div>\n",
       "<style scoped>\n",
       "    .dataframe tbody tr th:only-of-type {\n",
       "        vertical-align: middle;\n",
       "    }\n",
       "\n",
       "    .dataframe tbody tr th {\n",
       "        vertical-align: top;\n",
       "    }\n",
       "\n",
       "    .dataframe thead th {\n",
       "        text-align: right;\n",
       "    }\n",
       "</style>\n",
       "<table border=\"1\" class=\"dataframe\">\n",
       "  <thead>\n",
       "    <tr style=\"text-align: right;\">\n",
       "      <th></th>\n",
       "      <th>Id</th>\n",
       "      <th>MSSubClass</th>\n",
       "      <th>MSZoning</th>\n",
       "      <th>LotFrontage</th>\n",
       "      <th>LotArea</th>\n",
       "      <th>Street</th>\n",
       "      <th>Alley</th>\n",
       "      <th>LotShape</th>\n",
       "      <th>LandContour</th>\n",
       "      <th>Utilities</th>\n",
       "      <th>...</th>\n",
       "      <th>PoolArea</th>\n",
       "      <th>PoolQC</th>\n",
       "      <th>Fence</th>\n",
       "      <th>MiscFeature</th>\n",
       "      <th>MiscVal</th>\n",
       "      <th>MoSold</th>\n",
       "      <th>YrSold</th>\n",
       "      <th>SaleType</th>\n",
       "      <th>SaleCondition</th>\n",
       "      <th>SalePrice</th>\n",
       "    </tr>\n",
       "  </thead>\n",
       "  <tbody>\n",
       "    <tr>\n",
       "      <th>0</th>\n",
       "      <td>1</td>\n",
       "      <td>60</td>\n",
       "      <td>RL</td>\n",
       "      <td>65.0</td>\n",
       "      <td>8450</td>\n",
       "      <td>Pave</td>\n",
       "      <td>NaN</td>\n",
       "      <td>Reg</td>\n",
       "      <td>Lvl</td>\n",
       "      <td>AllPub</td>\n",
       "      <td>...</td>\n",
       "      <td>0</td>\n",
       "      <td>NaN</td>\n",
       "      <td>NaN</td>\n",
       "      <td>NaN</td>\n",
       "      <td>0</td>\n",
       "      <td>2</td>\n",
       "      <td>2008</td>\n",
       "      <td>WD</td>\n",
       "      <td>Normal</td>\n",
       "      <td>208500</td>\n",
       "    </tr>\n",
       "    <tr>\n",
       "      <th>1</th>\n",
       "      <td>2</td>\n",
       "      <td>20</td>\n",
       "      <td>RL</td>\n",
       "      <td>80.0</td>\n",
       "      <td>9600</td>\n",
       "      <td>Pave</td>\n",
       "      <td>NaN</td>\n",
       "      <td>Reg</td>\n",
       "      <td>Lvl</td>\n",
       "      <td>AllPub</td>\n",
       "      <td>...</td>\n",
       "      <td>0</td>\n",
       "      <td>NaN</td>\n",
       "      <td>NaN</td>\n",
       "      <td>NaN</td>\n",
       "      <td>0</td>\n",
       "      <td>5</td>\n",
       "      <td>2007</td>\n",
       "      <td>WD</td>\n",
       "      <td>Normal</td>\n",
       "      <td>181500</td>\n",
       "    </tr>\n",
       "    <tr>\n",
       "      <th>2</th>\n",
       "      <td>3</td>\n",
       "      <td>60</td>\n",
       "      <td>RL</td>\n",
       "      <td>68.0</td>\n",
       "      <td>11250</td>\n",
       "      <td>Pave</td>\n",
       "      <td>NaN</td>\n",
       "      <td>IR1</td>\n",
       "      <td>Lvl</td>\n",
       "      <td>AllPub</td>\n",
       "      <td>...</td>\n",
       "      <td>0</td>\n",
       "      <td>NaN</td>\n",
       "      <td>NaN</td>\n",
       "      <td>NaN</td>\n",
       "      <td>0</td>\n",
       "      <td>9</td>\n",
       "      <td>2008</td>\n",
       "      <td>WD</td>\n",
       "      <td>Normal</td>\n",
       "      <td>223500</td>\n",
       "    </tr>\n",
       "    <tr>\n",
       "      <th>3</th>\n",
       "      <td>4</td>\n",
       "      <td>70</td>\n",
       "      <td>RL</td>\n",
       "      <td>60.0</td>\n",
       "      <td>9550</td>\n",
       "      <td>Pave</td>\n",
       "      <td>NaN</td>\n",
       "      <td>IR1</td>\n",
       "      <td>Lvl</td>\n",
       "      <td>AllPub</td>\n",
       "      <td>...</td>\n",
       "      <td>0</td>\n",
       "      <td>NaN</td>\n",
       "      <td>NaN</td>\n",
       "      <td>NaN</td>\n",
       "      <td>0</td>\n",
       "      <td>2</td>\n",
       "      <td>2006</td>\n",
       "      <td>WD</td>\n",
       "      <td>Abnorml</td>\n",
       "      <td>140000</td>\n",
       "    </tr>\n",
       "    <tr>\n",
       "      <th>4</th>\n",
       "      <td>5</td>\n",
       "      <td>60</td>\n",
       "      <td>RL</td>\n",
       "      <td>84.0</td>\n",
       "      <td>14260</td>\n",
       "      <td>Pave</td>\n",
       "      <td>NaN</td>\n",
       "      <td>IR1</td>\n",
       "      <td>Lvl</td>\n",
       "      <td>AllPub</td>\n",
       "      <td>...</td>\n",
       "      <td>0</td>\n",
       "      <td>NaN</td>\n",
       "      <td>NaN</td>\n",
       "      <td>NaN</td>\n",
       "      <td>0</td>\n",
       "      <td>12</td>\n",
       "      <td>2008</td>\n",
       "      <td>WD</td>\n",
       "      <td>Normal</td>\n",
       "      <td>250000</td>\n",
       "    </tr>\n",
       "  </tbody>\n",
       "</table>\n",
       "<p>5 rows × 81 columns</p>\n",
       "</div>"
      ],
      "text/plain": [
       "   Id  MSSubClass MSZoning  LotFrontage  LotArea Street Alley LotShape  \\\n",
       "0   1          60       RL         65.0     8450   Pave   NaN      Reg   \n",
       "1   2          20       RL         80.0     9600   Pave   NaN      Reg   \n",
       "2   3          60       RL         68.0    11250   Pave   NaN      IR1   \n",
       "3   4          70       RL         60.0     9550   Pave   NaN      IR1   \n",
       "4   5          60       RL         84.0    14260   Pave   NaN      IR1   \n",
       "\n",
       "  LandContour Utilities  ... PoolArea PoolQC Fence MiscFeature MiscVal MoSold  \\\n",
       "0         Lvl    AllPub  ...        0    NaN   NaN         NaN       0      2   \n",
       "1         Lvl    AllPub  ...        0    NaN   NaN         NaN       0      5   \n",
       "2         Lvl    AllPub  ...        0    NaN   NaN         NaN       0      9   \n",
       "3         Lvl    AllPub  ...        0    NaN   NaN         NaN       0      2   \n",
       "4         Lvl    AllPub  ...        0    NaN   NaN         NaN       0     12   \n",
       "\n",
       "  YrSold  SaleType  SaleCondition  SalePrice  \n",
       "0   2008        WD         Normal     208500  \n",
       "1   2007        WD         Normal     181500  \n",
       "2   2008        WD         Normal     223500  \n",
       "3   2006        WD        Abnorml     140000  \n",
       "4   2008        WD         Normal     250000  \n",
       "\n",
       "[5 rows x 81 columns]"
      ]
     },
     "execution_count": 71,
     "metadata": {},
     "output_type": "execute_result"
    }
   ],
   "source": [
    "import pandas as pd\n",
    "df = pd.read_csv('train.csv')\n",
    "df.head()"
   ]
  },
  {
   "cell_type": "code",
   "execution_count": 72,
   "metadata": {},
   "outputs": [
    {
     "data": {
      "text/plain": [
       "(1460, 2)"
      ]
     },
     "execution_count": 72,
     "metadata": {},
     "output_type": "execute_result"
    }
   ],
   "source": [
    "X = df.loc[:, ['GrLivArea','YearBuilt']].values\n",
    "y = df.loc[:, 'SalePrice'].values\n",
    "X.shape"
   ]
  },
  {
   "cell_type": "code",
   "execution_count": 73,
   "metadata": {},
   "outputs": [
    {
     "data": {
      "text/plain": [
       "array([[1710, 2003],\n",
       "       [1262, 1976],\n",
       "       [1786, 2001],\n",
       "       ...,\n",
       "       [2340, 1941],\n",
       "       [1078, 1950],\n",
       "       [1256, 1965]])"
      ]
     },
     "execution_count": 73,
     "metadata": {},
     "output_type": "execute_result"
    }
   ],
   "source": [
    "X"
   ]
  },
  {
   "cell_type": "code",
   "execution_count": 74,
   "metadata": {},
   "outputs": [
    {
     "data": {
      "text/plain": [
       "(1460,)"
      ]
     },
     "execution_count": 74,
     "metadata": {},
     "output_type": "execute_result"
    }
   ],
   "source": [
    "y.shape"
   ]
  },
  {
   "cell_type": "code",
   "execution_count": 75,
   "metadata": {},
   "outputs": [],
   "source": [
    "'''\n",
    "■データをテスト用と検証用で分ける\n",
    "'''\n",
    "from sklearn.model_selection import train_test_split\n",
    "X_train,X_test,y_train,y_test = train_test_split(X,y,train_size=0.8,test_size=0.2, random_state=42)"
   ]
  },
  {
   "cell_type": "code",
   "execution_count": 76,
   "metadata": {},
   "outputs": [
    {
     "data": {
      "text/plain": [
       "(1168,)"
      ]
     },
     "execution_count": 76,
     "metadata": {},
     "output_type": "execute_result"
    }
   ],
   "source": [
    "y_train.shape"
   ]
  },
  {
   "cell_type": "code",
   "execution_count": 77,
   "metadata": {},
   "outputs": [
    {
     "name": "stderr",
     "output_type": "stream",
     "text": [
      "//anaconda3/lib/python3.7/site-packages/sklearn/linear_model/logistic.py:432: FutureWarning: Default solver will be changed to 'lbfgs' in 0.22. Specify a solver to silence this warning.\n",
      "  FutureWarning)\n",
      "//anaconda3/lib/python3.7/site-packages/sklearn/linear_model/logistic.py:469: FutureWarning: Default multi_class will be changed to 'auto' in 0.22. Specify the multi_class option to silence this warning.\n",
      "  \"this warning.\", FutureWarning)\n"
     ]
    },
    {
     "data": {
      "text/plain": [
       "array([110000, 190000, 110000, 190000, 140000,  80000, 190000, 140000,\n",
       "        80000, 140000, 140000, 110000, 110000, 140000, 190000, 110000,\n",
       "       190000, 140000, 110000, 140000, 190000, 140000, 140000, 110000,\n",
       "       140000, 140000, 140000, 110000, 140000, 140000, 140000, 190000,\n",
       "       200000, 110000, 140000, 140000, 190000, 190000, 190000, 110000,\n",
       "       140000, 190000, 110000, 190000, 110000, 190000, 110000, 110000,\n",
       "       190000, 140000, 110000, 140000, 140000, 200000, 110000, 190000,\n",
       "       190000, 140000, 140000, 110000,  80000, 140000, 190000, 140000,\n",
       "       190000, 190000, 110000, 190000, 110000, 140000, 140000, 140000,\n",
       "       110000, 110000, 190000, 140000, 190000, 190000, 140000, 110000,\n",
       "       110000, 140000, 110000, 110000, 140000, 140000, 190000, 140000,\n",
       "       110000, 140000, 140000, 140000, 110000, 160000, 190000, 140000,\n",
       "       140000, 140000, 140000, 190000, 190000, 190000, 190000, 110000,\n",
       "       140000, 140000, 110000, 190000, 110000, 190000, 110000, 110000,\n",
       "       110000, 140000, 190000, 110000, 110000, 110000, 190000, 140000,\n",
       "       110000, 110000, 140000, 190000, 140000, 110000, 190000, 110000,\n",
       "       140000, 190000, 140000, 190000, 190000, 190000,  80000, 190000,\n",
       "       190000, 110000, 140000, 200000, 160000, 110000, 190000, 190000,\n",
       "       110000, 110000, 190000, 140000, 110000, 110000, 140000, 140000,\n",
       "       190000, 190000, 140000, 190000, 140000, 140000,  80000, 140000,\n",
       "       140000, 110000, 140000, 140000, 140000, 190000, 190000, 190000,\n",
       "       160000, 190000, 190000, 110000, 140000, 140000, 160000, 140000,\n",
       "       140000, 190000, 140000, 140000, 140000, 110000, 110000, 140000,\n",
       "       190000, 190000, 190000, 140000, 140000, 140000, 140000, 140000,\n",
       "       140000, 140000, 140000, 190000, 140000, 140000, 190000, 140000,\n",
       "       140000, 140000, 140000, 190000, 140000, 110000, 190000, 140000,\n",
       "       140000, 110000, 190000, 140000, 140000, 140000, 140000, 140000,\n",
       "       140000, 140000, 140000, 190000, 110000, 140000, 140000, 140000,\n",
       "       140000, 140000, 140000, 110000, 140000, 140000, 110000, 140000,\n",
       "       110000, 140000, 190000, 140000, 140000, 110000, 190000, 110000,\n",
       "       110000, 200000, 190000, 200000, 190000, 140000, 140000, 140000,\n",
       "       110000, 110000, 190000, 140000, 140000, 110000, 140000, 110000,\n",
       "       140000, 140000, 140000, 190000, 190000, 140000, 110000, 140000,\n",
       "       190000, 190000, 140000, 110000, 110000, 140000, 190000, 140000,\n",
       "       190000, 140000, 140000, 110000, 190000, 190000, 140000, 140000,\n",
       "       190000,  80000, 140000, 110000, 190000, 140000, 190000, 140000,\n",
       "       140000, 140000, 140000, 110000])"
      ]
     },
     "execution_count": 77,
     "metadata": {},
     "output_type": "execute_result"
    }
   ],
   "source": [
    "'''\n",
    "▼ロジスティックサーチで予想\n",
    "■学習\n",
    "'''\n",
    "from sklearn.linear_model import LogisticRegression\n",
    "logreg = LogisticRegression()\n",
    "logreg.fit(X_train, y_train)\n",
    "\n",
    "'''\n",
    "■推定\n",
    "'''\n",
    "y_pred3 = logreg.predict(X_test)\n",
    "y_pred3"
   ]
  },
  {
   "cell_type": "code",
   "execution_count": 79,
   "metadata": {},
   "outputs": [],
   "source": [
    "'''\n",
    "■自作したモデルでテスト\n",
    "'''\n",
    "slr = ScratchLinearRegression()\n",
    "slr.fit(X_train , y_train , X_test , y_test)"
   ]
  },
  {
   "cell_type": "code",
   "execution_count": 80,
   "metadata": {},
   "outputs": [
    {
     "data": {
      "text/plain": [
       "array([1.37537118e+10, 1.25463815e+10, 1.14580988e+10, ...,\n",
       "       1.22086526e+09, 1.22086526e+09, 1.22086526e+09])"
      ]
     },
     "execution_count": 80,
     "metadata": {},
     "output_type": "execute_result"
    }
   ],
   "source": [
    "slr.loss"
   ]
  },
  {
   "cell_type": "code",
   "execution_count": 81,
   "metadata": {},
   "outputs": [
    {
     "data": {
      "text/plain": [
       "array([3.52345268e+09, 3.22681481e+09, 2.95925868e+09, ...,\n",
       "       3.42756459e+08, 3.42756348e+08, 3.42756237e+08])"
      ]
     },
     "execution_count": 81,
     "metadata": {},
     "output_type": "execute_result"
    }
   ],
   "source": [
    "slr.val_loss"
   ]
  },
  {
   "cell_type": "code",
   "execution_count": 82,
   "metadata": {},
   "outputs": [
    {
     "data": {
      "image/png": "[encoded data removed]",
      "text/plain": [
       "<Figure size 432x288 with 1 Axes>"
      ]
     },
     "metadata": {
      "needs_background": "light"
     },
     "output_type": "display_data"
    }
   ],
   "source": [
    "import matplotlib.pyplot as plt\n",
    "%matplotlib inline\n",
    "\n",
    "plt.plot(np.arange(len(slr.loss)) , slr.loss , label = \"train_loss\")\n",
    "plt.plot(np.arange(len(slr.val_loss)) , slr.val_loss , label = \"test_loss\")\n",
    "plt.title(\"model loss\")\n",
    "plt.xlabel(\"iter\")\n",
    "plt.ylabel(\"loss\")\n",
    "plt.legend()\n",
    "plt.show()"
   ]
  },
  {
   "cell_type": "markdown",
   "metadata": {},
   "source": [
    "# 採点ありがとうございました！！"
   ]
  },
  {
   "cell_type": "code",
   "execution_count": null,
   "metadata": {},
   "outputs": [],
   "source": []
  }
 ],
 "metadata": {
  "kernelspec": {
   "display_name": "Python 3",
   "language": "python",
   "name": "python3"
  },
  "language_info": {
   "codemirror_mode": {
    "name": "ipython",
    "version": 3
   },
   "file_extension": ".py",
   "mimetype": "text/x-python",
   "name": "python",
   "nbconvert_exporter": "python",
   "pygments_lexer": "ipython3",
   "version": "3.7.3"
  }
 },
 "nbformat": 4,
 "nbformat_minor": 2
}
