{
 "cells": [
  {
   "cell_type": "markdown",
   "metadata": {},
   "source": [
    "# ■第2週_授業前課題3_行列積のスクラッチ"
   ]
  },
  {
   "cell_type": "markdown",
   "metadata": {},
   "source": [
    "## 【問題1】行列積を手計算する"
   ]
  },
  {
   "cell_type": "markdown",
   "metadata": {},
   "source": [
    "▼1行目の左\n",
    "　　　　→-1*0+2*0+3*2=6\n",
    " ▼1行目真ん中\n",
    "　　　 → -1*2+2*2+3*9=29\n",
    " ▼1行目右\n",
    " 　　　→　-1*1+ 2*(-8)+3*(-1)=20\n",
    "    \n",
    " ▼2行目左\n",
    " 　　　→4*0+(-5)*0+6*2 =12\n",
    " ▼2行目真ん中\n",
    " 　　→4*2+(-5)*2+6*9=52\n",
    " ▼2行目右\n",
    " 　　→4*1+(-5)*(-8)+6*(-1)=38\n",
    "   \n",
    "  ▼3行目左\n",
    "  　　→7*0+8*0+(-9)*2=18\n",
    "  ▼3行目真ん中\n",
    "  　　→7*2+8*2+(-9)*9=-51\n",
    "   ▼3行目右\n",
    "   　→7*1+8*(-8)+(-9)*(-1)=-48\n",
    "   "
   ]
  },
  {
   "cell_type": "markdown",
   "metadata": {},
   "source": [
    "## 【問題2】Numpyの関数による計算"
   ]
  },
  {
   "cell_type": "code",
   "execution_count": 2,
   "metadata": {},
   "outputs": [
    {
     "name": "stdout",
     "output_type": "stream",
     "text": [
      "[[  6  29 -20]\n",
      " [ 12  52  38]\n",
      " [-18 -51 -48]]\n"
     ]
    }
   ],
   "source": [
    "import numpy as np\n",
    "a_ndarray = np.array([[-1, 2, 3], [4, -5, 6], [7, 8, -9]])\n",
    "b_ndarray = np.array([[0, 2, 1], [0, 2, -8], [2, 9, -1]])\n",
    "\n",
    "print(np.matmul(a_ndarray, b_ndarray))"
   ]
  },
  {
   "cell_type": "markdown",
   "metadata": {},
   "source": [
    "## 【問題3】ある要素の計算を実装"
   ]
  },
  {
   "cell_type": "code",
   "execution_count": 17,
   "metadata": {},
   "outputs": [
    {
     "data": {
      "text/plain": [
       "array([1, 5, 3, 4])"
      ]
     },
     "execution_count": 17,
     "metadata": {},
     "output_type": "execute_result"
    }
   ],
   "source": [
    "#nampy配列に入れて要素を足していきshapeで最後に形を整える\n",
    "import numpy as np\n",
    "temporary_ndarray=np.array([1,5])\n",
    "kon = np.append(temporary_ndarray, np.array([3,4]))\n",
    "kon"
   ]
  },
  {
   "cell_type": "code",
   "execution_count": 295,
   "metadata": {},
   "outputs": [
    {
     "data": {
      "text/plain": [
       "array([[  6.,  29., -20.],\n",
       "       [ 12.,  52.,  38.],\n",
       "       [-18., -51., -48.]])"
      ]
     },
     "execution_count": 295,
     "metadata": {},
     "output_type": "execute_result"
    }
   ],
   "source": [
    "temporary_ndarray=np.array([])\n",
    "one_left = a_ndarray[0][0]*b_ndarray[0][0]+a_ndarray[0][1]*b_ndarray[1][0]+a_ndarray[0][2]*b_ndarray[2][0]\n",
    "temporary_ndarray=np.append(temporary_ndarray, np.array([one_left]))\n",
    "one_center =  a_ndarray[0][0]*b_ndarray[0][1]+a_ndarray[0][1]*b_ndarray[1][1]+a_ndarray[0][2]*b_ndarray[2][1]\n",
    "temporary_ndarray=np.append(temporary_ndarray, np.array([one_center]))\n",
    "one_right =  a_ndarray[0][0]*b_ndarray[0][2]+a_ndarray[0][1]*b_ndarray[1][2]+a_ndarray[0][2]*b_ndarray[2][2]\n",
    "temporary_ndarray=np.append(temporary_ndarray, np.array([one_right]))\n",
    "\n",
    "two_left = a_ndarray[1][0]*b_ndarray[0][0]+a_ndarray[1][1]*b_ndarray[1][0]+a_ndarray[1][2]*b_ndarray[2][0]\n",
    "temporary_ndarray=np.append(temporary_ndarray, np.array([two_left]))\n",
    "two_center =  a_ndarray[1][0]*b_ndarray[0][1]+a_ndarray[1][1]*b_ndarray[1][1]+a_ndarray[1][2]*b_ndarray[2][1]\n",
    "temporary_ndarray=np.append(temporary_ndarray, np.array([two_center]))\n",
    "two_right =  a_ndarray[1][0]*b_ndarray[0][2]+a_ndarray[1][1]*b_ndarray[1][2]+a_ndarray[1][2]*b_ndarray[2][2]\n",
    "temporary_ndarray=np.append(temporary_ndarray, np.array([two_right]))\n",
    "\n",
    "three_left = a_ndarray[2][0]*b_ndarray[0][0]+a_ndarray[2][1]*b_ndarray[1][0]+a_ndarray[2][2]*b_ndarray[2][0]\n",
    "temporary_ndarray=np.append(temporary_ndarray, np.array([three_left]))\n",
    "three_center =  a_ndarray[2][0]*b_ndarray[0][1]+a_ndarray[2][1]*b_ndarray[1][1]+a_ndarray[2][2]*b_ndarray[2][1]\n",
    "temporary_ndarray=np.append(temporary_ndarray, np.array([three_center]))\n",
    "three_right =  a_ndarray[2][0]*b_ndarray[0][2]+a_ndarray[2][1]*b_ndarray[1][2]+a_ndarray[2][2]*b_ndarray[2][2]\n",
    "temporary_ndarray=np.append(temporary_ndarray, np.array([three_right]))\n",
    "\n",
    "temporary_ndarray.reshape(3,3)"
   ]
  },
  {
   "cell_type": "markdown",
   "metadata": {},
   "source": [
    "## 【問題4】行列積を行う関数の作成"
   ]
  },
  {
   "cell_type": "markdown",
   "metadata": {},
   "source": [
    "### 下記は動かないなぜ駄目なのか教えて頂きたいです。np.appendがが上手く機能していな買ったです"
   ]
  },
  {
   "cell_type": "code",
   "execution_count": 364,
   "metadata": {},
   "outputs": [
    {
     "name": "stdout",
     "output_type": "stream",
     "text": [
      "[]\n"
     ]
    }
   ],
   "source": [
    "#def calculation(arrayA,arrayB):\n",
    "arrayA = np.array([[-1, 2, 3], [4, -5, 6], [7, 8, -9]])\n",
    "arrayB = np.array([[0, 2, 1], [0, 2, -8], [2, 9, -1]])\n",
    "\n",
    "line_number = arrayA.shape[0]\n",
    "row_number = arrayB.shape[1]\n",
    "\n",
    "temp_array = np.array([])\n",
    "\n",
    "for i in range(3):\n",
    "    for j in range(3):\n",
    "        cul = np.sum(arrayA[i]*arrayB[:,j])\n",
    "        np.append(temp_array,cul)\n",
    "print(temp_array)\n"
   ]
  },
  {
   "cell_type": "markdown",
   "metadata": {},
   "source": [
    "### こちらが提出用のよう解答です。リストを利用"
   ]
  },
  {
   "cell_type": "code",
   "execution_count": 367,
   "metadata": {},
   "outputs": [
    {
     "data": {
      "text/plain": [
       "array([[  6,  29, -20],\n",
       "       [ 12,  52,  38],\n",
       "       [-18, -51, -48]])"
      ]
     },
     "execution_count": 367,
     "metadata": {},
     "output_type": "execute_result"
    }
   ],
   "source": [
    "def calculation(arrayA,arrayB):\n",
    "    line_number = arrayA.shape[0]\n",
    "    row_number = arrayB.shape[1]\n",
    "\n",
    "    temp_array = []\n",
    "\n",
    "    for i in range(line_number):\n",
    "        for j in range(row_number):\n",
    "            cul = sum(arrayA[i]*arrayB[:,j])\n",
    "            temp_array.append(cul)\n",
    "    return np.reshape(temp_array,(line_number, row_number))\n",
    "\n",
    "a_ndarray = np.array([[-1, 2, 3], [4, -5, 6], [7, 8, -9]])\n",
    "b_ndarray = np.array([[0, 2, 1], [0, 2, -8], [2, 9, -1]])\n",
    "\n",
    "calculation(a_ndarray,b_ndarray)"
   ]
  },
  {
   "cell_type": "markdown",
   "metadata": {},
   "source": [
    "## 【問題5】計算が定義されない入力を判定する"
   ]
  },
  {
   "cell_type": "code",
   "execution_count": 381,
   "metadata": {},
   "outputs": [
    {
     "data": {
      "text/plain": [
       "'入力値では計算できないです。入力されるA行列の列数とB行列の行数を揃えてください。'"
      ]
     },
     "execution_count": 381,
     "metadata": {},
     "output_type": "execute_result"
    }
   ],
   "source": [
    "'''\n",
    "■補足説明\n",
    "A行列×B行列とすると計算できないのはA行列の列数とB行列の行数が一致しない時\n",
    "'''\n",
    "def calculation2(arrayA,arrayB):\n",
    "    line_number = arrayA.shape[0]\n",
    "    row_number = arrayB.shape[1]\n",
    "    error = \"入力値では計算できないです。入力されるA行列の列数とB行列の行数を揃えてください。\"\n",
    "    if line_number != row_number:\n",
    "        return error\n",
    "    else:\n",
    "        temp_array = []\n",
    "        for i in range(line_number):\n",
    "            for j in range(row_number):\n",
    "                cul = sum(arrayA[i]*arrayB[:,j])\n",
    "                temp_array.append(cul)\n",
    "        return np.reshape(temp_array,(line_number, row_number))\n",
    "    \n",
    "d_ndarray = np.array([[-1, 2, 3], [4, -5, 6]])\n",
    "e_ndarray = np.array([[-9, 8, 7], [6, -5, 4]])\n",
    "\n",
    "calculation2(d_ndarray,e_ndarray)"
   ]
  },
  {
   "cell_type": "markdown",
   "metadata": {},
   "source": [
    "## 【問題6】転置"
   ]
  },
  {
   "cell_type": "code",
   "execution_count": 384,
   "metadata": {},
   "outputs": [
    {
     "data": {
      "text/plain": [
       "array([[  7, -20,  13],\n",
       "       [ -4, -58, -43],\n",
       "       [  7,  88,  95]])"
      ]
     },
     "execution_count": 384,
     "metadata": {},
     "output_type": "execute_result"
    }
   ],
   "source": [
    "a_ndarray = np.array([[-1, 2, 3], [4, -5, 6], [7, 8, -9]])\n",
    "b_ndarray = np.array([[0, 2, 1], [0, 2, -8], [2, 9, -1]])\n",
    "\n",
    "'''\n",
    "■補足\n",
    "b_ndarray行列を転置して計算する\n",
    "'''\n",
    "new_b_ndarray = b_ndarray.T\n",
    "calculation2(a_ndarray,new_b_ndarray)"
   ]
  },
  {
   "cell_type": "code",
   "execution_count": null,
   "metadata": {},
   "outputs": [],
   "source": []
  }
 ],
 "metadata": {
  "kernelspec": {
   "display_name": "Python 3",
   "language": "python",
   "name": "python3"
  },
  "language_info": {
   "codemirror_mode": {
    "name": "ipython",
    "version": 3
   },
   "file_extension": ".py",
   "mimetype": "text/x-python",
   "name": "python",
   "nbconvert_exporter": "python",
   "pygments_lexer": "ipython3",
   "version": "3.7.3"
  }
 },
 "nbformat": 4,
 "nbformat_minor": 2
}
