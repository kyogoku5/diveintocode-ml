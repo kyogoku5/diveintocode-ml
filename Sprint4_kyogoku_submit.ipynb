{
 "cells": [
  {
   "cell_type": "markdown",
   "metadata": {},
   "source": [
    "# ■Sprint4 機械学習スクラッチ　ロジスティック回帰"
   ]
  },
  {
   "cell_type": "markdown",
   "metadata": {},
   "source": [
    "# 採点よろしくお願い致します！"
   ]
  },
  {
   "cell_type": "code",
   "execution_count": 4,
   "metadata": {},
   "outputs": [],
   "source": [
    "import matplotlib.pyplot as plt\n",
    "import numpy as np\n",
    "import math\n",
    "e = math.e"
   ]
  },
  {
   "cell_type": "code",
   "execution_count": 91,
   "metadata": {},
   "outputs": [],
   "source": [
    "class ScratchLogisticRegression():\n",
    "    \"\"\"\n",
    "    ロジスティック回帰のスクラッチ実装\n",
    "\n",
    "    Parameters\n",
    "    ----------\n",
    "    num_iter : int\n",
    "      イテレーション数\n",
    "    lr : float\n",
    "      学習率\n",
    "    no_bias : bool\n",
    "      バイアス項を入れない場合はTrue\n",
    "    verbose : bool\n",
    "      学習過程を出力する場合はTrue\n",
    "\n",
    "    Attributes\n",
    "    ----------\n",
    "    self.coef_ : 次の形のndarray, shape (n_features,)\n",
    "      パラメータ\n",
    "    self.loss : 次の形のndarray, shape (self.iter,)\n",
    "      学習用データに対する損失の記録\n",
    "    self.val_loss : 次の形のndarray, shape (self.iter,)\n",
    "      検証用データに対する損失の記録\n",
    "\n",
    "    \"\"\"\n",
    "\n",
    "    def __init__(self, num_iter, lr, bias, verbose):\n",
    "        # ハイパーパラメータを属性として記録\n",
    "        self.iter = num_iter\n",
    "        self.lr = lr\n",
    "        self.bias = True\n",
    "        self.verbose = verbose\n",
    "        # 損失を記録する配列を用意\n",
    "        self.loss = np.zeros(self.iter)\n",
    "        self.val_loss = np.zeros(self.iter)\n",
    "        self.theta = None\n",
    "        self.h = None\n",
    "        self.λ = 0.01\n",
    "\n",
    "    def _linear_hypothesis(self,X):\n",
    "       # X = np.insert(X,0,1,axis=1)\n",
    "        dot = np.dot(X ,self.theta.T)\n",
    "        self.h = 1 / (1 + e**-dot)\n",
    "\n",
    "        return self.h\n",
    "\n",
    "    def _error(self,y):\n",
    "        #求めた仮定関数とyの差分を考える\n",
    "        return self.h.reshape(-1,1) - y.reshape(-1,1)\n",
    "    \n",
    "    def _gradient_descent(self,X,y,error):\n",
    "        '''\n",
    "        ■方針\n",
    "        θが0の時と1以降で計算式を分ける\n",
    "        DIVERは1個のθに注目しているが\n",
    "        下記では全て一気に計算する方法で実装する\n",
    "        '''\n",
    "        #データの個数を取得\n",
    "        m = X.shape[0]\n",
    "        \n",
    "        #αの右側のJ(θ)をθ0の微分を考える\n",
    "        #下記がαよりも右側の式を表す\n",
    "        #Xjは自分でinsertした1が入るので実質的に式に影響を与えない。\n",
    "        bias = np.sum(error)/m\n",
    "        #αの右側のJ(θ)をθ0の微分を考える\n",
    "        #mainの次元指定に超注意[:,1:]\n",
    "        #λはハイパーパラメータ\n",
    "        main = (np.dot(error.T, X [:,1:]) /m)+self.λ*self.theta[1:]/m\n",
    "        \n",
    "        self.theta[0] = self.theta[0] - self.lr*bias\n",
    "        self.theta[1:] = self.theta[1:] - self.lr*main\n",
    "        \n",
    "        return self.theta\n",
    "    \n",
    "    def _purpose(self,X,y):\n",
    "        m = X.shape[0]\n",
    "        loss = np.sum(-y*np.log(self.h) - (1-y)*np.log(1-self.h))/m + self.λ*np.sum(self.theta**2)/2*m\n",
    "        return loss\n",
    "\n",
    "    def _predict_proba(self, X):\n",
    "        if self.bias:\n",
    "            X=np.insert(X,0, 1,axis=1)\n",
    "                    \n",
    "        y_predict = np.dot(X ,self.theta.T)\n",
    "        y_predict = 1 / (1 + e**-y_predict)\n",
    "        #lists = np.zeros(self.h.shape[0])\n",
    "        lists = np.where(y_predict >= 0.5, 1, 0)\n",
    "        return lists\n",
    "    \n",
    "\n",
    "    def fit(self, X, y, X_val=None, y_val=None):\n",
    "        \"\"\"\n",
    "        ロジスティック回帰を学習する。検証用データが入力された場合はそれに対する損失と精度もイテレーションごとに計算する。\n",
    "\n",
    "        Parameters\n",
    "        ----------\n",
    "        X : 次の形のndarray, shape (n_samples, n_features)\n",
    "            学習用データの特徴量\n",
    "        y : 次の形のndarray, shape (n_samples, )\n",
    "            学習用データの正解値\n",
    "        X_val : 次の形のndarray, shape (n_samples, n_features)\n",
    "            検証用データの特徴量\n",
    "        y_val : 次の形のndarray, shape (n_samples, )\n",
    "            検証用データの正解値\n",
    "        \"\"\"\n",
    "        if self.bias:\n",
    "            X=np.insert(X,0, 1,axis=1)\n",
    "            if X_val is not None:\n",
    "                 X_val =np.insert(X_val,0, 1,axis=1)\n",
    "        \n",
    "        self.theta = np.random.rand(X.shape[1])    \n",
    "\n",
    "        \n",
    "        for i in range(self.iter):\n",
    "            self._linear_hypothesis(X)\n",
    "            self.error_value = self._error(y)\n",
    "            self.theta = self._gradient_descent(X,y,self.error_value)\n",
    "            #print(\"thetaを表示{}\".format(self.theta))\n",
    "            self.purpose =self._purpose(X,y)\n",
    "            self.loss[i] = self.purpose\n",
    "             \n",
    "            if X_val is not None:\n",
    "                #X_valの仮定関数も作る必要がある\n",
    "                self._linear_hypothesis(X_val)\n",
    "                self.purpose2 = self._purpose(X_val,y_val)\n",
    "                self.val_loss[i] = self.purpose2\n",
    "\n",
    "        if self.verbose:\n",
    "            #verboseをTrueにした際は学習過程を出力\n",
    "            print()\n",
    "        pass\n",
    "        \n",
    "        return \n"
   ]
  },
  {
   "cell_type": "markdown",
   "metadata": {},
   "source": [
    "# 【問題1】仮定関数"
   ]
  },
  {
   "cell_type": "markdown",
   "metadata": {},
   "source": [
    "def _linear_hypothesis(self,X):\n",
    "\n",
    "上記箇所\n",
    "\n",
    "シグモイド関数はimport mathで利用"
   ]
  },
  {
   "cell_type": "markdown",
   "metadata": {},
   "source": [
    "# 【問題2】最急降下法"
   ]
  },
  {
   "cell_type": "markdown",
   "metadata": {},
   "source": [
    "まず仮定関数で求めた結果とyの差分を関数errorと置く\n",
    "\n",
    "def _error(self,y):\n",
    "    \n",
    "これを利用し\n",
    "\n",
    "def _gradient_descent(self,X,y,error):\n",
    "\n",
    "を作成\n",
    "    "
   ]
  },
  {
   "cell_type": "markdown",
   "metadata": {},
   "source": [
    "# 【問題3】推定"
   ]
  },
  {
   "cell_type": "markdown",
   "metadata": {},
   "source": [
    " def _predict_proba(self, X):\n",
    " \n",
    " 箇所です！\n",
    " ## ■※質問\n",
    "  ## 動かすためにここで切片の追加を記述したのですがこの処理で正しいか教えてほしいです！\n",
    " "
   ]
  },
  {
   "cell_type": "markdown",
   "metadata": {},
   "source": [
    "## 【問題4】目的関数"
   ]
  },
  {
   "cell_type": "markdown",
   "metadata": {},
   "source": [
    "def _purpose(self,X,y):\n",
    "\n",
    "箇所です！\n",
    "\n",
    "self.loss、self.val_lossの記録に関しては\n",
    "\n",
    " def fit(self, X, y, X_val=None, y_val=None):\n",
    " \n",
    " 内に記載あります！"
   ]
  },
  {
   "cell_type": "markdown",
   "metadata": {},
   "source": [
    "## 【問題5】学習と推定"
   ]
  },
  {
   "cell_type": "code",
   "execution_count": 92,
   "metadata": {},
   "outputs": [
    {
     "data": {
      "text/plain": [
       "array([0, 0, 0, 0, 0, 0, 0, 0, 0, 0, 0, 0, 0, 0, 0, 0, 0, 0, 0, 0, 0, 0,\n",
       "       0, 0, 0, 0, 0, 0, 0, 0, 0, 0, 0, 0, 0, 0, 0, 0, 0, 0, 0, 0, 0, 0,\n",
       "       0, 0, 0, 0, 0, 0, 1, 1, 1, 1, 1, 1, 1, 1, 1, 1, 1, 1, 1, 1, 1, 1,\n",
       "       1, 1, 1, 1, 1, 1, 1, 1, 1, 1, 1, 1, 1, 1, 1, 1, 1, 1, 1, 1, 1, 1,\n",
       "       1, 1, 1, 1, 1, 1, 1, 1, 1, 1, 1, 1, 2, 2, 2, 2, 2, 2, 2, 2, 2, 2,\n",
       "       2, 2, 2, 2, 2, 2, 2, 2, 2, 2, 2, 2, 2, 2, 2, 2, 2, 2, 2, 2, 2, 2,\n",
       "       2, 2, 2, 2, 2, 2, 2, 2, 2, 2, 2, 2, 2, 2, 2, 2, 2, 2])"
      ]
     },
     "execution_count": 92,
     "metadata": {},
     "output_type": "execute_result"
    }
   ],
   "source": [
    "'''\n",
    "■irisのデータセットを用意する\n",
    "targetを見るとvirgicolorとvirginicaの箇所は1と2でこのまま使えないので\n",
    "自分で0と1の配列を作って適応させる事にする。\n",
    "同時にXも50行目以降を利用する\n",
    "'''\n",
    "from sklearn.datasets import load_iris\n",
    "import pandas as pd\n",
    "iris = load_iris()\n",
    "X = iris.data[:, :]\n",
    "y = iris.target\n",
    "\n",
    "y"
   ]
  },
  {
   "cell_type": "code",
   "execution_count": 93,
   "metadata": {},
   "outputs": [],
   "source": [
    "zero = np.zeros(50)\n",
    "one = np.ones(50)\n",
    "\n",
    "zero.reshape(-1,1)\n",
    "one.reshape(-1,1)\n",
    "X = X[50:,:]\n",
    "\n",
    "new_y= np.concatenate([zero,one])\n",
    "y = new_y.reshape(-1,1)"
   ]
  },
  {
   "cell_type": "code",
   "execution_count": 94,
   "metadata": {},
   "outputs": [],
   "source": [
    "'''\n",
    "■Sckit-learnのtrain_test_splitを利用して\n",
    "データを学習用とテスト用に分ける\n",
    "'''\n",
    "from sklearn.model_selection import train_test_split\n",
    "X_train, X_test, y_train, y_test = train_test_split(X,y,train_size=0.75,   shuffle=True)"
   ]
  },
  {
   "cell_type": "code",
   "execution_count": 95,
   "metadata": {},
   "outputs": [
    {
     "data": {
      "text/plain": [
       "((75, 4), (25, 4), (75, 1), (25, 1))"
      ]
     },
     "execution_count": 95,
     "metadata": {},
     "output_type": "execute_result"
    }
   ],
   "source": [
    "X_train.shape, X_test.shape, y_train.shape, y_test.shape"
   ]
  },
  {
   "cell_type": "code",
   "execution_count": 96,
   "metadata": {},
   "outputs": [],
   "source": [
    "slr =  ScratchLogisticRegression(num_iter=5000, lr=0.001,bias=True, verbose=None)\n",
    "slr.fit(X_train , y_train , X_test , y_test)"
   ]
  },
  {
   "cell_type": "code",
   "execution_count": 97,
   "metadata": {},
   "outputs": [
    {
     "data": {
      "text/plain": [
       "array([1, 0, 0, 1, 1, 1, 1, 0, 1, 0, 1, 1, 0, 1, 1, 0, 0, 1, 1, 1, 0, 0,\n",
       "       1, 1, 1])"
      ]
     },
     "execution_count": 97,
     "metadata": {},
     "output_type": "execute_result"
    }
   ],
   "source": [
    "y_pred = slr._predict_proba(X_test)\n",
    "y_pred"
   ]
  },
  {
   "cell_type": "markdown",
   "metadata": {},
   "source": [
    "# 【問題6】学習と推定"
   ]
  },
  {
   "cell_type": "code",
   "execution_count": 60,
   "metadata": {},
   "outputs": [
    {
     "data": {
      "text/plain": [
       "(25, 1)"
      ]
     },
     "execution_count": 60,
     "metadata": {},
     "output_type": "execute_result"
    }
   ],
   "source": [
    "y_test.shape"
   ]
  },
  {
   "cell_type": "code",
   "execution_count": 98,
   "metadata": {},
   "outputs": [
    {
     "data": {
      "text/plain": [
       "array([1, 0, 0, 1, 1, 1, 1, 0, 1, 0, 1, 1, 0, 1, 1, 0, 0, 1, 1, 1, 0, 0,\n",
       "       1, 1, 1])"
      ]
     },
     "execution_count": 98,
     "metadata": {},
     "output_type": "execute_result"
    }
   ],
   "source": [
    "y_pred"
   ]
  },
  {
   "cell_type": "code",
   "execution_count": 99,
   "metadata": {},
   "outputs": [
    {
     "name": "stdout",
     "output_type": "stream",
     "text": [
      "①正解率は84.00%です\n",
      "②適合率は84.52%です\n",
      "③再現率は80.21%です\n",
      "④F値は81.62%です\n"
     ]
    }
   ],
   "source": [
    "from sklearn.metrics import accuracy_score\n",
    "from sklearn.metrics import precision_score\n",
    "from sklearn.metrics import recall_score\n",
    "from sklearn.metrics import f1_score\n",
    "corect_percent = accuracy_score(y_pred, y_test)*100\n",
    "fit_percent = precision_score(y_pred, y_test, average='macro')*100\n",
    "recall_percent = recall_score(y_pred, y_test, average='macro')*100\n",
    "f1_percent = f1_score(y_pred, y_test, average='macro')*100\n",
    "\n",
    "print('①正解率は{:.2f}%です'.format(corect_percent))\n",
    "print('②適合率は{:.2f}%です'.format(fit_percent))\n",
    "print('③再現率は{:.2f}%です'.format(recall_percent))\n",
    "print('④F値は{:.2f}%です'.format(f1_percent))"
   ]
  },
  {
   "cell_type": "markdown",
   "metadata": {},
   "source": [
    "# 【問題7】学習曲線のプロット"
   ]
  },
  {
   "cell_type": "code",
   "execution_count": 63,
   "metadata": {},
   "outputs": [
    {
     "data": {
      "text/plain": [
       "array([0., 0., 0., ..., 0., 0., 0.])"
      ]
     },
     "execution_count": 63,
     "metadata": {},
     "output_type": "execute_result"
    }
   ],
   "source": [
    "slr.loss"
   ]
  },
  {
   "cell_type": "code",
   "execution_count": 64,
   "metadata": {},
   "outputs": [
    {
     "data": {
      "text/plain": [
       "array([0., 0., 0., ..., 0., 0., 0.])"
      ]
     },
     "execution_count": 64,
     "metadata": {},
     "output_type": "execute_result"
    }
   ],
   "source": [
    "slr.val_loss"
   ]
  },
  {
   "cell_type": "code",
   "execution_count": 105,
   "metadata": {},
   "outputs": [
    {
     "data": {
      "image/png": "[encoded data removed]",
      "text/plain": [
       "<Figure size 432x288 with 1 Axes>"
      ]
     },
     "metadata": {
      "needs_background": "light"
     },
     "output_type": "display_data"
    }
   ],
   "source": [
    "import matplotlib.pyplot as plt\n",
    "%matplotlib inline\n",
    "plt.plot(np.arange(len(slr.loss)) , slr.loss , label = \"train_loss\")\n",
    "plt.plot(np.arange(len(slr.val_loss)) , slr.val_loss , label = \"test_loss\")\n",
    "plt.title(\"study curve\")\n",
    "plt.xlabel(\"Try times\")\n",
    "plt.ylabel(\"loss\")\n",
    "plt.legend()\n",
    "plt.show()"
   ]
  },
  {
   "cell_type": "markdown",
   "metadata": {},
   "source": [
    "## 【問題8】決定領域の可視化"
   ]
  },
  {
   "cell_type": "markdown",
   "metadata": {},
   "source": [
    "下記のコードは以前の課題で使ったものを流用。\n",
    "\n",
    "特徴量４つの状態でプロットが出来ないので\n",
    "\n",
    "特徴量を２つ選出しその境界線を引く"
   ]
  },
  {
   "cell_type": "code",
   "execution_count": 103,
   "metadata": {},
   "outputs": [],
   "source": [
    "import matplotlib.pyplot as plt\n",
    "from matplotlib.colors import ListedColormap\n",
    "import matplotlib.patches as mpatches\n",
    "\n",
    "def decision_region(X, y, model, step=0.01, title='decision region', xlabel='xlabel', ylabel='ylabel', target_names=['versicolor', 'virginica']):\n",
    "    \"\"\"\n",
    "    2値分類を2次元の特徴量で学習したモデルの決定領域を描く。\n",
    "    背景の色が学習したモデルによる推定値から描画される。\n",
    "    散布図の点は訓練データまたは検証データである。\n",
    "\n",
    "    Parameters\n",
    "    ----------------\n",
    "    X : ndarray, shape(n_samples, 2)\n",
    "        特徴量\n",
    "    y : ndarray, shape(n_samples,)\n",
    "        ラベル\n",
    "    model : object\n",
    "        学習したモデルのインスンタスを入れる\n",
    "    step : float, (default : 0.1)\n",
    "        推定値を計算する間隔を設定する\n",
    "    title : str\n",
    "        グラフのタイトルの文章を与える\n",
    "    xlabel, ylabel : str\n",
    "        軸ラベルの文章を与える\n",
    "    target_names= : list of str\n",
    "        凡例の一覧を与える\n",
    "    \"\"\"\n",
    "    # setting\n",
    "    scatter_color = ['red', 'blue']\n",
    "    contourf_color = ['pink', 'skyblue']\n",
    "    n_class = 2\n",
    "\n",
    "    # pred\n",
    "    mesh_f0, mesh_f1  = np.meshgrid(np.arange(np.min(X[:,0])-0.5, np.max(X[:,0])+0.5, step), np.arange(np.min(X[:,1])-0.5, np.max(X[:,1])+0.5, step))\n",
    "    mesh = np.c_[np.ravel(mesh_f0),np.ravel(mesh_f1)]\n",
    "    y_pred = model._predict_proba(mesh).reshape(mesh_f0.shape)\n",
    "\n",
    "    # plot\n",
    "    plt.title(title)\n",
    "    plt.xlabel(xlabel)\n",
    "    plt.ylabel(ylabel)\n",
    "    plt.contourf(mesh_f0, mesh_f1, y_pred, n_class-1, cmap=ListedColormap(contourf_color))\n",
    "    plt.contour(mesh_f0, mesh_f1, y_pred, n_class-1, colors='y', linewidths=3, alpha=0.5)\n",
    "\n",
    "    for i, target in enumerate(set(y)):\n",
    "        plt.scatter(X[y==target][:, 0], X[y==target][:, 1], s=80, color=scatter_color[i], label=target_names[i], marker='o')\n",
    "    patches = [mpatches.Patch(color=scatter_color[i], label=target_names[i]) for i in range(n_class)]\n",
    "    plt.legend(handles=patches)\n",
    "    plt.legend()\n",
    "    plt.show()"
   ]
  },
  {
   "cell_type": "code",
   "execution_count": 104,
   "metadata": {},
   "outputs": [
    {
     "data": {
      "image/png": "[encoded data removed]",
      "text/plain": [
       "<Figure size 432x288 with 1 Axes>"
      ]
     },
     "metadata": {
      "needs_background": "light"
     },
     "output_type": "display_data"
    }
   ],
   "source": [
    "slr =  ScratchLogisticRegression(num_iter=5000, lr=0.001,bias=True, verbose=None)\n",
    "X_train2, X_test2, y_train2, y_test2 = train_test_split(X,y,train_size=0.70)\n",
    "#学習させる\n",
    "slr.fit(X_train2[:,2:4] , y_train2 , X_test2[:,2:4] , y_test2)\n",
    "\n",
    "decision_region(X_test2[:,2:4], y_test2.reshape(-1),slr, step=0.01, title='decision region', xlabel='xlabel', ylabel='ylabel', target_names=['versicolor', 'virginica'])"
   ]
  },
  {
   "cell_type": "markdown",
   "metadata": {},
   "source": [
    "# ■質問\n",
    "いくら特徴量が２つだからと言ってあまりにもズレを感じるので間違ってる点があれば教えて頂きたいです。"
   ]
  }
 ],
 "metadata": {
  "kernelspec": {
   "display_name": "Python 3",
   "language": "python",
   "name": "python3"
  },
  "language_info": {
   "codemirror_mode": {
    "name": "ipython",
    "version": 3
   },
   "file_extension": ".py",
   "mimetype": "text/x-python",
   "name": "python",
   "nbconvert_exporter": "python",
   "pygments_lexer": "ipython3",
   "version": "3.7.3"
  }
 },
 "nbformat": 4,
 "nbformat_minor": 2
}
