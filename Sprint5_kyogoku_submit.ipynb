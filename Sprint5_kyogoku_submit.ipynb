{
 "cells": [
  {
   "cell_type": "markdown",
   "metadata": {},
   "source": [
    "# Sprint5 - 機械学習スクラッチSVM"
   ]
  },
  {
   "cell_type": "markdown",
   "metadata": {},
   "source": [
    "## 【問題1】SVM分類器のクラスを作成する"
   ]
  },
  {
   "cell_type": "code",
   "execution_count": 168,
   "metadata": {},
   "outputs": [],
   "source": [
    "import numpy as np\n",
    "import matplotlib.pyplot as plt\n",
    "%matplotlib inline\n",
    "class ScratchSVMClassifier():\n",
    "    def __init__(self, num_iter=60000, lr=0.000001, bias=True, verbose=False):\n",
    "        #引数で指定するもの\n",
    "        #学習率\n",
    "        self.lr = lr\n",
    "        self.num_iter = num_iter\n",
    "\n",
    "        #自分で定義したもの\n",
    "        self.r = None\n",
    "        \n",
    "    def _fit(self,X,y,Xval=None,y_val=None):\n",
    "        #ランダムにデータ個数分ラムダを生成\n",
    "        self.r = np.random.rand(X.shape[0])*0.001\n",
    "\n",
    "        '''\n",
    "        ■今回の目的関数\n",
    "        ''' \n",
    "        right = np.dot(y,y.T)*np.dot(X,X.T)\n",
    "        self.r=self.r+self.lr*(1-np.dot(self.r,right))\n",
    "        \n",
    "        #ラムダが０未満のものに０を代入\n",
    "        self.r[self.r < 0 ] = 0\n",
    "        #しきい値はpdfから設定\n",
    "        hantei_index=np.where(self.r > 0.0001)\n",
    "        \n",
    "        #サポートベクターのデータを抽出\n",
    "        self.r = self.r[hantei_index]\n",
    "        self.X = X[hantei_index]\n",
    "        self.y = y[hantei_index]\n",
    "        \n",
    "        #ベクトルを行列に変換\n",
    "        self.r = np.reshape(self.r, (-1, 1))\n",
    "        \n",
    "    def _predict(self,X):        \n",
    "        '''\n",
    "        ■今回の仮定関数\n",
    "        '''\n",
    "        array = np.sum(self.r.T * self.y.T*np.dot(X,self.X.T), axis=1)\n",
    "        \n",
    "        #値が0未満のものには-1を、０以上のものには１を返す\n",
    "        array[array < 0 ] = -1\n",
    "        array[array >= 0 ] = 1\n",
    "        \n",
    "        self.array = array\n",
    "        \n",
    "        return array\n",
    "        "
   ]
  },
  {
   "cell_type": "code",
   "execution_count": 169,
   "metadata": {},
   "outputs": [],
   "source": [
    "'''\n",
    "■Sprint2の1のデータ・セット\n",
    "'''\n",
    "np.random.seed(seed=0)\n",
    "n_samples = 500\n",
    "f0 = [-1, 2]\n",
    "f1 = [2, -1]\n",
    "cov = [[1.0,0.8], [0.8, 1.0]]\n",
    "\n",
    "f0 = np.random.multivariate_normal(f0, cov, int(n_samples/2))\n",
    "f1 = np.random.multivariate_normal(f1, cov, int(n_samples/2))\n",
    "\n",
    "X2 = np.concatenate((f0, f1))\n",
    "y2= np.concatenate((np.ones((int(n_samples/2))), np.ones((int(n_samples/2))) *(-1))).astype(np.int)\n",
    "\n",
    "random_index = np.random.permutation(np.arange(n_samples))\n",
    "X2 = X2[random_index]\n",
    "y2 = y2[random_index]"
   ]
  },
  {
   "cell_type": "code",
   "execution_count": 170,
   "metadata": {},
   "outputs": [],
   "source": [
    "from sklearn.model_selection import train_test_split\n",
    "X_train2, X_test2, y_train2, y_test2 = train_test_split(X2,y2,train_size=0.75)"
   ]
  },
  {
   "cell_type": "code",
   "execution_count": 171,
   "metadata": {},
   "outputs": [],
   "source": [
    "slr = ScratchSVMClassifier()\n",
    "slr._fit(X_train2,y_train2)"
   ]
  },
  {
   "cell_type": "code",
   "execution_count": 172,
   "metadata": {},
   "outputs": [],
   "source": [
    "y_pred = slr._predict(X_test2)"
   ]
  },
  {
   "cell_type": "code",
   "execution_count": 173,
   "metadata": {},
   "outputs": [],
   "source": [
    "hantei_index1=np.where(y2 == 1)\n",
    "hantei_index2=np.where(y2 == -1)\n",
    "X_red = X2[hantei_index1]\n",
    "X_blue = X2[hantei_index2]"
   ]
  },
  {
   "cell_type": "markdown",
   "metadata": {},
   "source": [
    "## 【問題3】指標値の算出"
   ]
  },
  {
   "cell_type": "code",
   "execution_count": 174,
   "metadata": {},
   "outputs": [
    {
     "name": "stdout",
     "output_type": "stream",
     "text": [
      "①正解率は100.00%です\n",
      "②適合率は100.00%です\n",
      "③再現率は100.00%です\n",
      "④F値は100.00%です\n"
     ]
    }
   ],
   "source": [
    "from sklearn.metrics import accuracy_score\n",
    "from sklearn.metrics import precision_score\n",
    "from sklearn.metrics import recall_score\n",
    "from sklearn.metrics import f1_score\n",
    "corect_percent = accuracy_score(y_pred, y_test2)*100\n",
    "fit_percent = precision_score(y_pred, y_test2, average='macro')*100\n",
    "recall_percent = recall_score(y_pred, y_test2, average='macro')*100\n",
    "f1_percent = f1_score(y_pred, y_test2, average='macro')*100\n",
    "\n",
    "print('①正解率は{:.2f}%です'.format(corect_percent))\n",
    "print('②適合率は{:.2f}%です'.format(fit_percent))\n",
    "print('③再現率は{:.2f}%です'.format(recall_percent))\n",
    "print('④F値は{:.2f}%です'.format(f1_percent))"
   ]
  },
  {
   "cell_type": "markdown",
   "metadata": {},
   "source": [
    "# 【問題4】決定領域の可視化"
   ]
  },
  {
   "cell_type": "code",
   "execution_count": 175,
   "metadata": {},
   "outputs": [],
   "source": [
    "import matplotlib.pyplot as plt\n",
    "from matplotlib.colors import ListedColormap\n",
    "import matplotlib.patches as mpatches\n",
    "\n",
    "def decision_region(X, y, model, step=0.01, title='decision region', xlabel='xlabel', ylabel='ylabel', target_names=['versicolor', 'virginica']):\n",
    "    \"\"\"\n",
    "    2値分類を2次元の特徴量で学習したモデルの決定領域を描く。\n",
    "    背景の色が学習したモデルによる推定値から描画される。\n",
    "    散布図の点は訓練データまたは検証データである。\n",
    "\n",
    "    Parameters\n",
    "    ----------------\n",
    "    X : ndarray, shape(n_samples, 2)\n",
    "        特徴量\n",
    "    y : ndarray, shape(n_samples,)\n",
    "        ラベル\n",
    "    model : object\n",
    "        学習したモデルのインスンタスを入れる\n",
    "    step : float, (default : 0.1)\n",
    "        推定値を計算する間隔を設定する\n",
    "    title : str\n",
    "        グラフのタイトルの文章を与える\n",
    "    xlabel, ylabel : str\n",
    "        軸ラベルの文章を与える\n",
    "    target_names= : list of str\n",
    "        凡例の一覧を与える\n",
    "    \"\"\"\n",
    "    # setting\n",
    "    scatter_color = ['red', 'blue']\n",
    "    contourf_color = ['pink', 'skyblue']\n",
    "    n_class = 2\n",
    "\n",
    "    # pred\n",
    "    mesh_f0, mesh_f1  = np.meshgrid(np.arange(np.min(X[:,0])-0.5, np.max(X[:,0])+0.5, step), np.arange(np.min(X[:,1])-0.5, np.max(X[:,1])+0.5, step))\n",
    "    mesh = np.c_[np.ravel(mesh_f0),np.ravel(mesh_f1)]\n",
    "    y_pred = model._predict(mesh).reshape(mesh_f0.shape)\n",
    "\n",
    "    # plot\n",
    "    plt.title(title)\n",
    "    plt.xlabel(xlabel)\n",
    "    plt.ylabel(ylabel)\n",
    "    plt.contourf(mesh_f0, mesh_f1, y_pred, n_class-1, cmap=ListedColormap(contourf_color))\n",
    "    plt.contour(mesh_f0, mesh_f1, y_pred, n_class-1, colors='y', linewidths=3, alpha=0.5)\n",
    "    \n",
    "    '''\n",
    "    ■enumerate意味\n",
    "    インデックス番号がi\n",
    "    中身がtargetにそれぞれ入る\n",
    "    \n",
    "    ■setの意味\n",
    "    ユニークな値のみ残す\n",
    "    \n",
    "    yの値が1か-1の時のXを抽出\n",
    "    '''\n",
    "    for i, target in enumerate(set(y)):\n",
    "        \n",
    "        plt.scatter(X[y==target][:, 0], X[y==target][:, 1], s=80, color=scatter_color[i], label=target_names[i], marker='o')\n",
    "    patches = [mpatches.Patch(color=scatter_color[i], label=target_names[i]) for i in range(n_class)]\n",
    "    plt.legend(handles=patches)\n",
    "    plt.legend()\n",
    "    plt.show()"
   ]
  },
  {
   "cell_type": "code",
   "execution_count": 176,
   "metadata": {},
   "outputs": [],
   "source": [
    "from matplotlib.colors import ListedColormap\n",
    "\n",
    "# 可視化関数\n",
    "def plot_decision_regions(X, model):\n",
    "    plt.scatter(X2[:,0], X2[:,1], s=80, c=y2, marker='o')\n",
    "    #print(model.sv_lt)\n",
    "    #どこからとってくるか変える\n",
    "    for sv in model.X:\n",
    "        \n",
    "        plt.scatter(sv[0], sv[1], s=80, c='c', marker='o')\n",
    "    \n",
    "    #サポートベクターも同様にプロット\n",
    "    step = 0.1\n",
    "    mesh_f0, mesh_f1  = np.meshgrid(np.arange(np.min(X[:,0])-0.5, np.max(X[:,0])+0.5, step), np.arange(np.min(X[:,1])-0.5, np.max(X[:,1])+0.5, step))\n",
    "    mesh = np.c_[np.ravel(mesh_f0),np.ravel(mesh_f1)]\n",
    "    pred = model._predict(mesh).reshape(mesh_f0.shape)\n",
    "    plt.contour(mesh_f0, mesh_f1, pred, 1)\n",
    "    plt.show()"
   ]
  },
  {
   "cell_type": "code",
   "execution_count": 177,
   "metadata": {},
   "outputs": [
    {
     "data": {
      "image/png": "[encoded data removed]",
      "text/plain": [
       "<Figure size 432x288 with 1 Axes>"
      ]
     },
     "metadata": {
      "needs_background": "light"
     },
     "output_type": "display_data"
    }
   ],
   "source": [
    "plot_decision_regions(X_train2,slr)"
   ]
  },
  {
   "cell_type": "code",
   "execution_count": 178,
   "metadata": {},
   "outputs": [
    {
     "name": "stdout",
     "output_type": "stream",
     "text": [
      "time : 0.006700038909912109s\n"
     ]
    }
   ],
   "source": [
    "import time\n",
    "t0 = time.time()\n",
    "slr = ScratchSVMClassifier()\n",
    "slr._fit(X_train2,y_train2)\n",
    "t1 = time.time()\n",
    "print('time : {}s'.format(t1-t0))"
   ]
  },
  {
   "cell_type": "markdown",
   "metadata": {},
   "source": [
    "## ■fitさせる箇所の処理は\n",
    "time : 0.007117271423339844s"
   ]
  },
  {
   "cell_type": "markdown",
   "metadata": {},
   "source": [
    "## 【問題6】ロジスティック回帰とSVMの違い\n",
    "SVMは決定境界の両側に「ギャップ」を維持しようとしているので、新しいテスト用のデータに遭遇したときに役立つと思いました。"
   ]
  }
 ],
 "metadata": {
  "kernelspec": {
   "display_name": "Python 3",
   "language": "python",
   "name": "python3"
  },
  "language_info": {
   "codemirror_mode": {
    "name": "ipython",
    "version": 3
   },
   "file_extension": ".py",
   "mimetype": "text/x-python",
   "name": "python",
   "nbconvert_exporter": "python",
   "pygments_lexer": "ipython3",
   "version": "3.7.3"
  }
 },
 "nbformat": 4,
 "nbformat_minor": 2
}
