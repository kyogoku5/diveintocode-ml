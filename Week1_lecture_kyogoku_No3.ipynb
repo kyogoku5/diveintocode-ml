{
 "cells": [
  {
   "cell_type": "markdown",
   "metadata": {},
   "source": [
    "# ■第1週 授業課題3"
   ]
  },
  {
   "cell_type": "code",
   "execution_count": 1,
   "metadata": {},
   "outputs": [
    {
     "name": "stdout",
     "output_type": "stream",
     "text": [
      "栗まんじゅうが全宇宙を覆うのにかかる時間は1095分です。\n",
      "栗まんじゅうが全宇宙を覆うのにかかる時間は18.25時間です。\n"
     ]
    }
   ],
   "source": [
    "import math\n",
    "\n",
    "def covered_number(v, v_1):\n",
    "    time = 0\n",
    "    while v < v_1:\n",
    "        v *= 2\n",
    "        time += 1\n",
    "    return time\n",
    "\n",
    "def vol(r):\n",
    "    return (4 * math.pi * r**3) / 3 \n",
    "'''\n",
    "■補足\n",
    "math.pi=円周率\n",
    "栗まんじゅうを球、半径をrとおく\n",
    "球の公式＝4*π*半径**3/3\n",
    "'''\n",
    "\n",
    "r_sun = 2.50709e+20\n",
    "'''\n",
    "■補足\n",
    "太陽系の半径を上記おく\n",
    "'''\n",
    "v_sun = vol(r_sun)\n",
    "'''\n",
    "■補足\n",
    "太陽系の大きさを計算\n",
    "'''\n",
    "time_kuri = covered_number(1e-4, v_sun,)\n",
    "print('栗まんじゅうが全宇宙を覆うのにかかる時間は{}分です。'.format(time_kuri*5))\n",
    "print('栗まんじゅうが全宇宙を覆うのにかかる時間は{:.2f}時間です。'.format((time_kuri*5)/60))"
   ]
  },
  {
   "cell_type": "code",
   "execution_count": null,
   "metadata": {},
   "outputs": [],
   "source": []
  },
  {
   "cell_type": "code",
   "execution_count": null,
   "metadata": {},
   "outputs": [],
   "source": []
  }
 ],
 "metadata": {
  "kernelspec": {
   "display_name": "Python 3",
   "language": "python",
   "name": "python3"
  },
  "language_info": {
   "codemirror_mode": {
    "name": "ipython",
    "version": 3
   },
   "file_extension": ".py",
   "mimetype": "text/x-python",
   "name": "python",
   "nbconvert_exporter": "python",
   "pygments_lexer": "ipython3",
   "version": "3.7.3"
  }
 },
 "nbformat": 4,
 "nbformat_minor": 2
}
