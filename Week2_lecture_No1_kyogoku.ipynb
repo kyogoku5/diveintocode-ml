{
 "cells": [
  {
   "cell_type": "markdown",
   "metadata": {},
   "source": [
    "# ■復習\n",
    "１回目："
   ]
  },
  {
   "cell_type": "markdown",
   "metadata": {},
   "source": [
    "#  【問題1】1次関数"
   ]
  },
  {
   "cell_type": "code",
   "execution_count": 3,
   "metadata": {},
   "outputs": [
    {
     "name": "stdout",
     "output_type": "stream",
     "text": [
      "[-50.  -49.9 -49.8 ...  49.8  49.9  50. ]\n",
      "(1001,)\n",
      "[-24.   -23.95 -23.9  ...  25.9   25.95  26.  ]\n",
      "(1001,)\n"
     ]
    }
   ],
   "source": [
    "import numpy as np\n",
    "x = np.arange(-50,50.1,0.1)\n",
    "y = np.array(1/2*x+1)\n",
    "np.set_printoptions(suppress=True)\n",
    "print(x)\n",
    "print(x.shape)\n",
    "print(y)\n",
    "print(y.shape)"
   ]
  },
  {
   "cell_type": "markdown",
   "metadata": {},
   "source": [
    "# 【問題2】配列の結合"
   ]
  },
  {
   "cell_type": "code",
   "execution_count": 8,
   "metadata": {},
   "outputs": [
    {
     "name": "stdout",
     "output_type": "stream",
     "text": [
      "(1001, 2)\n"
     ]
    }
   ],
   "source": [
    "ndarray_xy = np.vstack([x,y]).T\n",
    "print(np.shape(ndarray_xy))"
   ]
  },
  {
   "cell_type": "markdown",
   "metadata": {},
   "source": [
    "## 【問題3】勾配を求める"
   ]
  },
  {
   "cell_type": "code",
   "execution_count": 9,
   "metadata": {},
   "outputs": [
    {
     "data": {
      "text/plain": [
       "array([0.5, 0.5, 0.5, 0.5, 0.5, 0.5, 0.5, 0.5, 0.5, 0.5, 0.5, 0.5, 0.5,\n",
       "       0.5, 0.5, 0.5, 0.5, 0.5, 0.5, 0.5, 0.5, 0.5, 0.5, 0.5, 0.5, 0.5,\n",
       "       0.5, 0.5, 0.5, 0.5, 0.5, 0.5, 0.5, 0.5, 0.5, 0.5, 0.5, 0.5, 0.5,\n",
       "       0.5, 0.5, 0.5, 0.5, 0.5, 0.5, 0.5, 0.5, 0.5, 0.5, 0.5, 0.5, 0.5,\n",
       "       0.5, 0.5, 0.5, 0.5, 0.5, 0.5, 0.5, 0.5, 0.5, 0.5, 0.5, 0.5, 0.5,\n",
       "       0.5, 0.5, 0.5, 0.5, 0.5, 0.5, 0.5, 0.5, 0.5, 0.5, 0.5, 0.5, 0.5,\n",
       "       0.5, 0.5, 0.5, 0.5, 0.5, 0.5, 0.5, 0.5, 0.5, 0.5, 0.5, 0.5, 0.5,\n",
       "       0.5, 0.5, 0.5, 0.5, 0.5, 0.5, 0.5, 0.5, 0.5, 0.5, 0.5, 0.5, 0.5,\n",
       "       0.5, 0.5, 0.5, 0.5, 0.5, 0.5, 0.5, 0.5, 0.5, 0.5, 0.5, 0.5, 0.5,\n",
       "       0.5, 0.5, 0.5, 0.5, 0.5, 0.5, 0.5, 0.5, 0.5, 0.5, 0.5, 0.5, 0.5,\n",
       "       0.5, 0.5, 0.5, 0.5, 0.5, 0.5, 0.5, 0.5, 0.5, 0.5, 0.5, 0.5, 0.5,\n",
       "       0.5, 0.5, 0.5, 0.5, 0.5, 0.5, 0.5, 0.5, 0.5, 0.5, 0.5, 0.5, 0.5,\n",
       "       0.5, 0.5, 0.5, 0.5, 0.5, 0.5, 0.5, 0.5, 0.5, 0.5, 0.5, 0.5, 0.5,\n",
       "       0.5, 0.5, 0.5, 0.5, 0.5, 0.5, 0.5, 0.5, 0.5, 0.5, 0.5, 0.5, 0.5,\n",
       "       0.5, 0.5, 0.5, 0.5, 0.5, 0.5, 0.5, 0.5, 0.5, 0.5, 0.5, 0.5, 0.5,\n",
       "       0.5, 0.5, 0.5, 0.5, 0.5, 0.5, 0.5, 0.5, 0.5, 0.5, 0.5, 0.5, 0.5,\n",
       "       0.5, 0.5, 0.5, 0.5, 0.5, 0.5, 0.5, 0.5, 0.5, 0.5, 0.5, 0.5, 0.5,\n",
       "       0.5, 0.5, 0.5, 0.5, 0.5, 0.5, 0.5, 0.5, 0.5, 0.5, 0.5, 0.5, 0.5,\n",
       "       0.5, 0.5, 0.5, 0.5, 0.5, 0.5, 0.5, 0.5, 0.5, 0.5, 0.5, 0.5, 0.5,\n",
       "       0.5, 0.5, 0.5, 0.5, 0.5, 0.5, 0.5, 0.5, 0.5, 0.5, 0.5, 0.5, 0.5,\n",
       "       0.5, 0.5, 0.5, 0.5, 0.5, 0.5, 0.5, 0.5, 0.5, 0.5, 0.5, 0.5, 0.5,\n",
       "       0.5, 0.5, 0.5, 0.5, 0.5, 0.5, 0.5, 0.5, 0.5, 0.5, 0.5, 0.5, 0.5,\n",
       "       0.5, 0.5, 0.5, 0.5, 0.5, 0.5, 0.5, 0.5, 0.5, 0.5, 0.5, 0.5, 0.5,\n",
       "       0.5, 0.5, 0.5, 0.5, 0.5, 0.5, 0.5, 0.5, 0.5, 0.5, 0.5, 0.5, 0.5,\n",
       "       0.5, 0.5, 0.5, 0.5, 0.5, 0.5, 0.5, 0.5, 0.5, 0.5, 0.5, 0.5, 0.5,\n",
       "       0.5, 0.5, 0.5, 0.5, 0.5, 0.5, 0.5, 0.5, 0.5, 0.5, 0.5, 0.5, 0.5,\n",
       "       0.5, 0.5, 0.5, 0.5, 0.5, 0.5, 0.5, 0.5, 0.5, 0.5, 0.5, 0.5, 0.5,\n",
       "       0.5, 0.5, 0.5, 0.5, 0.5, 0.5, 0.5, 0.5, 0.5, 0.5, 0.5, 0.5, 0.5,\n",
       "       0.5, 0.5, 0.5, 0.5, 0.5, 0.5, 0.5, 0.5, 0.5, 0.5, 0.5, 0.5, 0.5,\n",
       "       0.5, 0.5, 0.5, 0.5, 0.5, 0.5, 0.5, 0.5, 0.5, 0.5, 0.5, 0.5, 0.5,\n",
       "       0.5, 0.5, 0.5, 0.5, 0.5, 0.5, 0.5, 0.5, 0.5, 0.5, 0.5, 0.5, 0.5,\n",
       "       0.5, 0.5, 0.5, 0.5, 0.5, 0.5, 0.5, 0.5, 0.5, 0.5, 0.5, 0.5, 0.5,\n",
       "       0.5, 0.5, 0.5, 0.5, 0.5, 0.5, 0.5, 0.5, 0.5, 0.5, 0.5, 0.5, 0.5,\n",
       "       0.5, 0.5, 0.5, 0.5, 0.5, 0.5, 0.5, 0.5, 0.5, 0.5, 0.5, 0.5, 0.5,\n",
       "       0.5, 0.5, 0.5, 0.5, 0.5, 0.5, 0.5, 0.5, 0.5, 0.5, 0.5, 0.5, 0.5,\n",
       "       0.5, 0.5, 0.5, 0.5, 0.5, 0.5, 0.5, 0.5, 0.5, 0.5, 0.5, 0.5, 0.5,\n",
       "       0.5, 0.5, 0.5, 0.5, 0.5, 0.5, 0.5, 0.5, 0.5, 0.5, 0.5, 0.5, 0.5,\n",
       "       0.5, 0.5, 0.5, 0.5, 0.5, 0.5, 0.5, 0.5, 0.5, 0.5, 0.5, 0.5, 0.5,\n",
       "       0.5, 0.5, 0.5, 0.5, 0.5, 0.5, 0.5, 0.5, 0.5, 0.5, 0.5, 0.5, 0.5,\n",
       "       0.5, 0.5, 0.5, 0.5, 0.5, 0.5, 0.5, 0.5, 0.5, 0.5, 0.5, 0.5, 0.5,\n",
       "       0.5, 0.5, 0.5, 0.5, 0.5, 0.5, 0.5, 0.5, 0.5, 0.5, 0.5, 0.5, 0.5,\n",
       "       0.5, 0.5, 0.5, 0.5, 0.5, 0.5, 0.5, 0.5, 0.5, 0.5, 0.5, 0.5, 0.5,\n",
       "       0.5, 0.5, 0.5, 0.5, 0.5, 0.5, 0.5, 0.5, 0.5, 0.5, 0.5, 0.5, 0.5,\n",
       "       0.5, 0.5, 0.5, 0.5, 0.5, 0.5, 0.5, 0.5, 0.5, 0.5, 0.5, 0.5, 0.5,\n",
       "       0.5, 0.5, 0.5, 0.5, 0.5, 0.5, 0.5, 0.5, 0.5, 0.5, 0.5, 0.5, 0.5,\n",
       "       0.5, 0.5, 0.5, 0.5, 0.5, 0.5, 0.5, 0.5, 0.5, 0.5, 0.5, 0.5, 0.5,\n",
       "       0.5, 0.5, 0.5, 0.5, 0.5, 0.5, 0.5, 0.5, 0.5, 0.5, 0.5, 0.5, 0.5,\n",
       "       0.5, 0.5, 0.5, 0.5, 0.5, 0.5, 0.5, 0.5, 0.5, 0.5, 0.5, 0.5, 0.5,\n",
       "       0.5, 0.5, 0.5, 0.5, 0.5, 0.5, 0.5, 0.5, 0.5, 0.5, 0.5, 0.5, 0.5,\n",
       "       0.5, 0.5, 0.5, 0.5, 0.5, 0.5, 0.5, 0.5, 0.5, 0.5, 0.5, 0.5, 0.5,\n",
       "       0.5, 0.5, 0.5, 0.5, 0.5, 0.5, 0.5, 0.5, 0.5, 0.5, 0.5, 0.5, 0.5,\n",
       "       0.5, 0.5, 0.5, 0.5, 0.5, 0.5, 0.5, 0.5, 0.5, 0.5, 0.5, 0.5, 0.5,\n",
       "       0.5, 0.5, 0.5, 0.5, 0.5, 0.5, 0.5, 0.5, 0.5, 0.5, 0.5, 0.5, 0.5,\n",
       "       0.5, 0.5, 0.5, 0.5, 0.5, 0.5, 0.5, 0.5, 0.5, 0.5, 0.5, 0.5, 0.5,\n",
       "       0.5, 0.5, 0.5, 0.5, 0.5, 0.5, 0.5, 0.5, 0.5, 0.5, 0.5, 0.5, 0.5,\n",
       "       0.5, 0.5, 0.5, 0.5, 0.5, 0.5, 0.5, 0.5, 0.5, 0.5, 0.5, 0.5, 0.5,\n",
       "       0.5, 0.5, 0.5, 0.5, 0.5, 0.5, 0.5, 0.5, 0.5, 0.5, 0.5, 0.5, 0.5,\n",
       "       0.5, 0.5, 0.5, 0.5, 0.5, 0.5, 0.5, 0.5, 0.5, 0.5, 0.5, 0.5, 0.5,\n",
       "       0.5, 0.5, 0.5, 0.5, 0.5, 0.5, 0.5, 0.5, 0.5, 0.5, 0.5, 0.5, 0.5,\n",
       "       0.5, 0.5, 0.5, 0.5, 0.5, 0.5, 0.5, 0.5, 0.5, 0.5, 0.5, 0.5, 0.5,\n",
       "       0.5, 0.5, 0.5, 0.5, 0.5, 0.5, 0.5, 0.5, 0.5, 0.5, 0.5, 0.5, 0.5,\n",
       "       0.5, 0.5, 0.5, 0.5, 0.5, 0.5, 0.5, 0.5, 0.5, 0.5, 0.5, 0.5, 0.5,\n",
       "       0.5, 0.5, 0.5, 0.5, 0.5, 0.5, 0.5, 0.5, 0.5, 0.5, 0.5, 0.5, 0.5,\n",
       "       0.5, 0.5, 0.5, 0.5, 0.5, 0.5, 0.5, 0.5, 0.5, 0.5, 0.5, 0.5, 0.5,\n",
       "       0.5, 0.5, 0.5, 0.5, 0.5, 0.5, 0.5, 0.5, 0.5, 0.5, 0.5, 0.5, 0.5,\n",
       "       0.5, 0.5, 0.5, 0.5, 0.5, 0.5, 0.5, 0.5, 0.5, 0.5, 0.5, 0.5, 0.5,\n",
       "       0.5, 0.5, 0.5, 0.5, 0.5, 0.5, 0.5, 0.5, 0.5, 0.5, 0.5, 0.5, 0.5,\n",
       "       0.5, 0.5, 0.5, 0.5, 0.5, 0.5, 0.5, 0.5, 0.5, 0.5, 0.5, 0.5, 0.5,\n",
       "       0.5, 0.5, 0.5, 0.5, 0.5, 0.5, 0.5, 0.5, 0.5, 0.5, 0.5, 0.5, 0.5,\n",
       "       0.5, 0.5, 0.5, 0.5, 0.5, 0.5, 0.5, 0.5, 0.5, 0.5, 0.5, 0.5, 0.5,\n",
       "       0.5, 0.5, 0.5, 0.5, 0.5, 0.5, 0.5, 0.5, 0.5, 0.5, 0.5, 0.5, 0.5,\n",
       "       0.5, 0.5, 0.5, 0.5, 0.5, 0.5, 0.5, 0.5, 0.5, 0.5, 0.5, 0.5, 0.5,\n",
       "       0.5, 0.5, 0.5, 0.5, 0.5, 0.5, 0.5, 0.5, 0.5, 0.5, 0.5, 0.5, 0.5,\n",
       "       0.5, 0.5, 0.5, 0.5, 0.5, 0.5, 0.5, 0.5, 0.5, 0.5, 0.5, 0.5, 0.5,\n",
       "       0.5, 0.5, 0.5, 0.5, 0.5, 0.5, 0.5, 0.5, 0.5, 0.5, 0.5, 0.5, 0.5,\n",
       "       0.5, 0.5, 0.5, 0.5, 0.5, 0.5, 0.5, 0.5, 0.5, 0.5, 0.5, 0.5, 0.5,\n",
       "       0.5, 0.5, 0.5, 0.5, 0.5, 0.5, 0.5, 0.5, 0.5, 0.5, 0.5, 0.5])"
      ]
     },
     "execution_count": 9,
     "metadata": {},
     "output_type": "execute_result"
    }
   ],
   "source": [
    "'''\n",
    "■注意点\n",
    "xとy共に1個地点を進めたものから現在地の値を引くといい\n",
    "'''\n",
    "x_alteration = x[1:]-x[:-1]\n",
    "y_alteration = y[1:]-y[:-1]\n",
    "\n",
    "slant = y_alteration/x_alteration\n",
    "slant"
   ]
  },
  {
   "cell_type": "markdown",
   "metadata": {},
   "source": [
    "## 【問題4】グラフを描く"
   ]
  },
  {
   "cell_type": "code",
   "execution_count": 10,
   "metadata": {},
   "outputs": [
    {
     "data": {
      "image/png": "[encoded data removed]",
      "text/plain": [
       "<Figure size 432x288 with 1 Axes>"
      ]
     },
     "metadata": {
      "needs_background": "light"
     },
     "output_type": "display_data"
    }
   ],
   "source": [
    "import matplotlib.pyplot as plt\n",
    "%matplotlib inline\n",
    "\n",
    "plt.title(\"title\")\n",
    "plt.xlabel(\"x-ziku\")\n",
    "plt.ylabel(\"y-ziku\")\n",
    "plt.plot(x,y)\n",
    "plt.plot(x[1:],slant)\n",
    "plt.show()"
   ]
  },
  {
   "cell_type": "markdown",
   "metadata": {},
   "source": [
    "## 【問題5】Pythonの関数化"
   ]
  },
  {
   "cell_type": "markdown",
   "metadata": {},
   "source": [
    "### ▼問題1-3をまとめて行う関数"
   ]
  },
  {
   "cell_type": "code",
   "execution_count": 32,
   "metadata": {},
   "outputs": [],
   "source": [
    "def mk_grad(function, x=np.arange(-50, 50.1, 0.1)):\n",
    "    y = function(x)\n",
    "    \n",
    "    dx = x[1:] - x[:-1]\n",
    "    dy = y[1:] - y[:-1]\n",
    "    \n",
    "    gradient = dy / dx\n",
    "    array_xy = np.vstack((x, y)).T\n",
    "    \n",
    "    return array_xy, gradient\n",
    "\n",
    "def function(x):\n",
    "    y = np.array(1/2*x+1)\n",
    "    \n",
    "    return y\n",
    "    "
   ]
  },
  {
   "cell_type": "markdown",
   "metadata": {},
   "source": [
    "### ▼3式の勾配を0.1間隔で求めてndarrayで出力"
   ]
  },
  {
   "cell_type": "markdown",
   "metadata": {},
   "source": [
    "▼y=x**2"
   ]
  },
  {
   "cell_type": "code",
   "execution_count": 26,
   "metadata": {},
   "outputs": [
    {
     "data": {
      "image/png": "[encoded data removed]",
      "text/plain": [
       "<Figure size 432x288 with 1 Axes>"
      ]
     },
     "metadata": {
      "needs_background": "light"
     },
     "output_type": "display_data"
    }
   ],
   "source": [
    "plt.plot(x, function_1(x), label='y=x^2')\n",
    "plt.plot(np.arange(-50,50,0.1), gradient1)\n",
    "plt.legend()\n",
    "plt.show()"
   ]
  },
  {
   "cell_type": "code",
   "execution_count": 53,
   "metadata": {},
   "outputs": [
    {
     "name": "stdout",
     "output_type": "stream",
     "text": [
      "[-1.99800000e+02 -1.99400000e+02 -1.99000000e+02 -1.98600000e+02\n",
      " -1.98200000e+02 -1.97800000e+02 -1.97400000e+02 -1.97000000e+02\n",
      " -1.96600000e+02 -1.96200000e+02 -1.95800000e+02 -1.95400000e+02\n",
      " -1.95000000e+02 -1.94600000e+02 -1.94200000e+02 -1.93800000e+02\n",
      " -1.93400000e+02 -1.93000000e+02 -1.92600000e+02 -1.92200000e+02\n",
      " -1.91800000e+02 -1.91400000e+02 -1.91000000e+02 -1.90600000e+02\n",
      " -1.90200000e+02 -1.89800000e+02 -1.89400000e+02 -1.89000000e+02\n",
      " -1.88600000e+02 -1.88200000e+02 -1.87800000e+02 -1.87400000e+02\n",
      " -1.87000000e+02 -1.86600000e+02 -1.86200000e+02 -1.85800000e+02\n",
      " -1.85400000e+02 -1.85000000e+02 -1.84600000e+02 -1.84200000e+02\n",
      " -1.83800000e+02 -1.83400000e+02 -1.83000000e+02 -1.82600000e+02\n",
      " -1.82200000e+02 -1.81800000e+02 -1.81400000e+02 -1.81000000e+02\n",
      " -1.80600000e+02 -1.80200000e+02 -1.79800000e+02 -1.79400000e+02\n",
      " -1.79000000e+02 -1.78600000e+02 -1.78200000e+02 -1.77800000e+02\n",
      " -1.77400000e+02 -1.77000000e+02 -1.76600000e+02 -1.76200000e+02\n",
      " -1.75800000e+02 -1.75400000e+02 -1.75000000e+02 -1.74600000e+02\n",
      " -1.74200000e+02 -1.73800000e+02 -1.73400000e+02 -1.73000000e+02\n",
      " -1.72600000e+02 -1.72200000e+02 -1.71800000e+02 -1.71400000e+02\n",
      " -1.71000000e+02 -1.70600000e+02 -1.70200000e+02 -1.69800000e+02\n",
      " -1.69400000e+02 -1.69000000e+02 -1.68600000e+02 -1.68200000e+02\n",
      " -1.67800000e+02 -1.67400000e+02 -1.67000000e+02 -1.66600000e+02\n",
      " -1.66200000e+02 -1.65800000e+02 -1.65400000e+02 -1.65000000e+02\n",
      " -1.64600000e+02 -1.64200000e+02 -1.63800000e+02 -1.63400000e+02\n",
      " -1.63000000e+02 -1.62600000e+02 -1.62200000e+02 -1.61800000e+02\n",
      " -1.61400000e+02 -1.61000000e+02 -1.60600000e+02 -1.60200000e+02\n",
      " -1.59800000e+02 -1.59400000e+02 -1.59000000e+02 -1.58600000e+02\n",
      " -1.58200000e+02 -1.57800000e+02 -1.57400000e+02 -1.57000000e+02\n",
      " -1.56600000e+02 -1.56200000e+02 -1.55800000e+02 -1.55400000e+02\n",
      " -1.55000000e+02 -1.54600000e+02 -1.54200000e+02 -1.53800000e+02\n",
      " -1.53400000e+02 -1.53000000e+02 -1.52600000e+02 -1.52200000e+02\n",
      " -1.51800000e+02 -1.51400000e+02 -1.51000000e+02 -1.50600000e+02\n",
      " -1.50200000e+02 -1.49800000e+02 -1.49400000e+02 -1.49000000e+02\n",
      " -1.48600000e+02 -1.48200000e+02 -1.47800000e+02 -1.47400000e+02\n",
      " -1.47000000e+02 -1.46600000e+02 -1.46200000e+02 -1.45800000e+02\n",
      " -1.45400000e+02 -1.45000000e+02 -1.44600000e+02 -1.44200000e+02\n",
      " -1.43800000e+02 -1.43400000e+02 -1.43000000e+02 -1.42600000e+02\n",
      " -1.42200000e+02 -1.41800000e+02 -1.41400000e+02 -1.41000000e+02\n",
      " -1.40600000e+02 -1.40200000e+02 -1.39800000e+02 -1.39400000e+02\n",
      " -1.39000000e+02 -1.38600000e+02 -1.38200000e+02 -1.37800000e+02\n",
      " -1.37400000e+02 -1.37000000e+02 -1.36600000e+02 -1.36200000e+02\n",
      " -1.35800000e+02 -1.35400000e+02 -1.35000000e+02 -1.34600000e+02\n",
      " -1.34200000e+02 -1.33800000e+02 -1.33400000e+02 -1.33000000e+02\n",
      " -1.32600000e+02 -1.32200000e+02 -1.31800000e+02 -1.31400000e+02\n",
      " -1.31000000e+02 -1.30600000e+02 -1.30200000e+02 -1.29800000e+02\n",
      " -1.29400000e+02 -1.29000000e+02 -1.28600000e+02 -1.28200000e+02\n",
      " -1.27800000e+02 -1.27400000e+02 -1.27000000e+02 -1.26600000e+02\n",
      " -1.26200000e+02 -1.25800000e+02 -1.25400000e+02 -1.25000000e+02\n",
      " -1.24600000e+02 -1.24200000e+02 -1.23800000e+02 -1.23400000e+02\n",
      " -1.23000000e+02 -1.22600000e+02 -1.22200000e+02 -1.21800000e+02\n",
      " -1.21400000e+02 -1.21000000e+02 -1.20600000e+02 -1.20200000e+02\n",
      " -1.19800000e+02 -1.19400000e+02 -1.19000000e+02 -1.18600000e+02\n",
      " -1.18200000e+02 -1.17800000e+02 -1.17400000e+02 -1.17000000e+02\n",
      " -1.16600000e+02 -1.16200000e+02 -1.15800000e+02 -1.15400000e+02\n",
      " -1.15000000e+02 -1.14600000e+02 -1.14200000e+02 -1.13800000e+02\n",
      " -1.13400000e+02 -1.13000000e+02 -1.12600000e+02 -1.12200000e+02\n",
      " -1.11800000e+02 -1.11400000e+02 -1.11000000e+02 -1.10600000e+02\n",
      " -1.10200000e+02 -1.09800000e+02 -1.09400000e+02 -1.09000000e+02\n",
      " -1.08600000e+02 -1.08200000e+02 -1.07800000e+02 -1.07400000e+02\n",
      " -1.07000000e+02 -1.06600000e+02 -1.06200000e+02 -1.05800000e+02\n",
      " -1.05400000e+02 -1.05000000e+02 -1.04600000e+02 -1.04200000e+02\n",
      " -1.03800000e+02 -1.03400000e+02 -1.03000000e+02 -1.02600000e+02\n",
      " -1.02200000e+02 -1.01800000e+02 -1.01400000e+02 -1.01000000e+02\n",
      " -1.00600000e+02 -1.00200000e+02 -9.98000000e+01 -9.94000000e+01\n",
      " -9.90000000e+01 -9.86000000e+01 -9.82000000e+01 -9.78000000e+01\n",
      " -9.74000000e+01 -9.70000000e+01 -9.66000000e+01 -9.62000000e+01\n",
      " -9.58000000e+01 -9.54000000e+01 -9.50000000e+01 -9.45999999e+01\n",
      " -9.41999999e+01 -9.37999999e+01 -9.33999999e+01 -9.29999999e+01\n",
      " -9.25999999e+01 -9.21999999e+01 -9.17999999e+01 -9.13999999e+01\n",
      " -9.09999999e+01 -9.05999999e+01 -9.01999999e+01 -8.97999999e+01\n",
      " -8.93999999e+01 -8.89999999e+01 -8.85999999e+01 -8.81999998e+01\n",
      " -8.77999998e+01 -8.73999998e+01 -8.69999998e+01 -8.65999998e+01\n",
      " -8.61999998e+01 -8.57999998e+01 -8.53999997e+01 -8.49999997e+01\n",
      " -8.45999997e+01 -8.41999997e+01 -8.37999997e+01 -8.33999996e+01\n",
      " -8.29999996e+01 -8.25999996e+01 -8.21999995e+01 -8.17999995e+01\n",
      " -8.13999995e+01 -8.09999994e+01 -8.05999994e+01 -8.01999994e+01\n",
      " -7.97999993e+01 -7.93999993e+01 -7.89999992e+01 -7.85999992e+01\n",
      " -7.81999991e+01 -7.77999990e+01 -7.73999990e+01 -7.69999989e+01\n",
      " -7.65999988e+01 -7.61999987e+01 -7.57999986e+01 -7.53999985e+01\n",
      " -7.49999984e+01 -7.45999983e+01 -7.41999982e+01 -7.37999981e+01\n",
      " -7.33999979e+01 -7.29999978e+01 -7.25999976e+01 -7.21999974e+01\n",
      " -7.17999973e+01 -7.13999971e+01 -7.09999969e+01 -7.05999966e+01\n",
      " -7.01999964e+01 -6.97999961e+01 -6.93999959e+01 -6.89999956e+01\n",
      " -6.85999952e+01 -6.81999949e+01 -6.77999945e+01 -6.73999941e+01\n",
      " -6.69999937e+01 -6.65999933e+01 -6.61999928e+01 -6.57999923e+01\n",
      " -6.53999917e+01 -6.49999911e+01 -6.45999905e+01 -6.41999898e+01\n",
      " -6.37999890e+01 -6.33999883e+01 -6.29999874e+01 -6.25999865e+01\n",
      " -6.21999855e+01 -6.17999845e+01 -6.13999834e+01 -6.09999822e+01\n",
      " -6.05999809e+01 -6.01999796e+01 -5.97999781e+01 -5.93999765e+01\n",
      " -5.89999748e+01 -5.85999730e+01 -5.81999711e+01 -5.77999690e+01\n",
      " -5.73999668e+01 -5.69999644e+01 -5.65999619e+01 -5.61999591e+01\n",
      " -5.57999562e+01 -5.53999530e+01 -5.49999497e+01 -5.45999461e+01\n",
      " -5.41999422e+01 -5.37999380e+01 -5.33999336e+01 -5.29999288e+01\n",
      " -5.25999237e+01 -5.21999183e+01 -5.17999124e+01 -5.13999061e+01\n",
      " -5.09998994e+01 -5.05998921e+01 -5.01998844e+01 -4.97998761e+01\n",
      " -4.93998672e+01 -4.89998577e+01 -4.85998475e+01 -4.81998365e+01\n",
      " -4.77998248e+01 -4.73998122e+01 -4.69997987e+01 -4.65997843e+01\n",
      " -4.61997688e+01 -4.57997522e+01 -4.53997344e+01 -4.49997153e+01\n",
      " -4.45996949e+01 -4.41996730e+01 -4.37996495e+01 -4.33996244e+01\n",
      " -4.29995974e+01 -4.25995685e+01 -4.21995376e+01 -4.17995044e+01\n",
      " -4.13994688e+01 -4.09994307e+01 -4.05993898e+01 -4.01993460e+01\n",
      " -3.97992991e+01 -3.93992488e+01 -3.89991949e+01 -3.85991371e+01\n",
      " -3.81990751e+01 -3.77990088e+01 -3.73989376e+01 -3.69988614e+01\n",
      " -3.65987796e+01 -3.61986921e+01 -3.57985982e+01 -3.53984976e+01\n",
      " -3.49983897e+01 -3.45982742e+01 -3.41981503e+01 -3.37980175e+01\n",
      " -3.33978752e+01 -3.29977227e+01 -3.25975593e+01 -3.21973841e+01\n",
      " -3.17971963e+01 -3.13969951e+01 -3.09967795e+01 -3.05965483e+01\n",
      " -3.01963006e+01 -2.97960350e+01 -2.93957505e+01 -2.89954455e+01\n",
      " -2.85951186e+01 -2.81947682e+01 -2.77943927e+01 -2.73939902e+01\n",
      " -2.69935589e+01 -2.65930966e+01 -2.61926011e+01 -2.57920701e+01\n",
      " -2.53915009e+01 -2.49908909e+01 -2.45902371e+01 -2.41895364e+01\n",
      " -2.37887854e+01 -2.33879805e+01 -2.29871178e+01 -2.25861932e+01\n",
      " -2.21852022e+01 -2.17841402e+01 -2.13830018e+01 -2.09817818e+01\n",
      " -2.05804742e+01 -2.01790728e+01 -1.97775708e+01 -1.93759610e+01\n",
      " -1.89742356e+01 -1.85723864e+01 -1.81704045e+01 -1.77682803e+01\n",
      " -1.73660037e+01 -1.69635636e+01 -1.65609485e+01 -1.61581456e+01\n",
      " -1.57551416e+01 -1.53519219e+01 -1.49484712e+01 -1.45447728e+01\n",
      " -1.41408090e+01 -1.37365606e+01 -1.33320074e+01 -1.29271273e+01\n",
      " -1.25218970e+01 -1.21162912e+01 -1.17102832e+01 -1.13038439e+01\n",
      " -1.08969424e+01 -1.04895456e+01 -1.00816179e+01 -9.67312124e+00\n",
      " -9.26401472e+00 -8.85425458e+00 -8.44379393e+00 -8.03258248e+00\n",
      " -7.62056634e+00 -7.20768777e+00 -6.79388485e+00 -6.37909126e+00\n",
      " -5.96323587e+00 -5.54624249e+00 -5.12802943e+00 -4.70850917e+00\n",
      " -4.28758786e+00 -3.86516496e+00 -3.44113269e+00 -3.01537554e+00\n",
      " -2.58776971e+00 -2.15818251e+00 -1.72647174e+00 -1.29248498e+00\n",
      " -8.56058869e-01 -4.17018331e-01  2.48242824e-02  4.69670085e-01\n",
      "  9.17734625e-01  1.36924892e+00  1.82446058e+00  2.28363497e+00\n",
      "  2.74705652e+00  3.21503004e+00  3.68788226e+00  4.16596334e+00\n",
      "  4.64964856e+00  5.13934017e+00  5.63546925e+00  6.13849785e+00\n",
      "  6.64892117e+00  7.16726995e+00  7.69411303e+00  8.23006008e+00\n",
      "  8.77576452e+00  9.33192668e+00  9.89929713e+00  1.04786803e+01\n",
      "  1.10709385e+01  1.16769957e+01  1.22978423e+01  1.29345399e+01\n",
      "  1.35882261e+01  1.42601202e+01  1.49515290e+01  1.56638534e+01\n",
      "  1.63985943e+01  1.71573607e+01  1.79418770e+01  1.87539914e+01\n",
      "  1.95956847e+01  2.04690798e+01  2.13764521e+01  2.23202403e+01\n",
      "  2.33030581e+01  2.43277067e+01  2.53971885e+01  2.65147214e+01\n",
      "  2.76837540e+01  2.89079828e+01  3.01913693e+01  3.15381596e+01\n",
      "  3.29529043e+01  3.44404807e+01  3.60061162e+01  3.76554134e+01\n",
      "  3.93943770e+01  4.12294427e+01  4.31675080e+01  4.52159656e+01\n",
      "  4.73827387e+01  4.96763192e+01  5.21058085e+01  5.46809613e+01\n",
      "  5.74122324e+01  6.03108268e+01  6.33887541e+01  6.66588854e+01\n",
      "  7.01350160e+01  7.38319312e+01  7.77654773e+01  8.19526384e+01\n",
      "  8.64116170e+01  9.11619226e+01  9.62244648e+01  1.01621654e+02\n",
      "  1.07377508e+02  1.13517771e+02  1.20070032e+02  1.27063862e+02\n",
      "  1.34530955e+02  1.42505277e+02  1.51023234e+02  1.60123845e+02\n",
      "  1.69848930e+02  1.80243307e+02  1.91355016e+02  2.03235542e+02\n",
      "  2.15940064e+02  2.29527725e+02  2.44061909e+02  2.59610553e+02\n",
      "  2.76246468e+02  2.94047691e+02  3.13097859e+02  3.33486615e+02\n",
      "  3.55310033e+02  3.78671083e+02  4.03680128e+02  4.30455449e+02\n",
      "  4.59123819e+02  4.89821107e+02  5.22692936e+02  5.57895381e+02\n",
      "  5.95595718e+02  6.35973229e+02  6.79220065e+02  7.25542167e+02\n",
      "  7.75160256e+02  8.28310899e+02  8.85247637e+02  9.46242214e+02\n",
      "  1.01158587e+03  1.08159076e+03  1.15659144e+03  1.23694646e+03\n",
      "  1.32304013e+03  1.41528433e+03  1.51412051e+03  1.62002180e+03\n",
      "  1.73349527e+03  1.85508443e+03  1.98537174e+03  2.12498152e+03\n",
      "  2.27458287e+03  2.43489292e+03  2.60668026e+03  2.79076867e+03\n",
      "  2.98804103e+03  3.19944360e+03  3.42599055e+03  3.66876885e+03\n",
      "  3.92894349e+03  4.20776305e+03  4.50656575e+03  4.82678584e+03\n",
      "  5.16996052e+03  5.53773733e+03  5.93188205e+03  6.35428719e+03\n",
      "  6.80698110e+03  7.29213771e+03  7.81208698e+03  8.36932610e+03\n",
      "  8.96653149e+03  9.60657167e+03  1.02925210e+04  1.10276747e+04\n",
      "  1.18155641e+04  1.26599744e+04  1.35649622e+04  1.45348754e+04\n",
      "  1.55743740e+04  1.66884522e+04  1.78824630e+04  1.91621433e+04\n",
      "  2.05336421e+04  2.20035493e+04  2.35789282e+04  2.52673488e+04\n",
      "  2.70769244e+04  2.90163508e+04  3.10949479e+04  3.33227044e+04\n",
      "  3.57103260e+04  3.82692867e+04  4.10118842e+04  4.39512987e+04\n",
      "  4.71016564e+04  5.04780975e+04  5.40968488e+04  5.79753017e+04\n",
      "  6.21320958e+04  6.65872088e+04  7.13620519e+04  7.64795734e+04\n",
      "  8.19643683e+04  8.78427973e+04  9.41431128e+04  1.00895595e+05\n",
      "  1.08132698e+05  1.15889203e+05  1.24202392e+05  1.33112218e+05\n",
      "  1.42661504e+05  1.52896147e+05  1.63865337e+05  1.75621795e+05\n",
      "  1.88222026e+05  2.01726590e+05  2.16200395e+05  2.31713007e+05\n",
      "  2.48338983e+05  2.66158235e+05  2.85256408e+05  3.05725293e+05\n",
      "  3.27663273e+05  3.51175789e+05  3.76375851e+05  4.03384580e+05\n",
      "  4.32331790e+05  4.63356613e+05  4.96608167e+05  5.32246270e+05\n",
      "  5.70442215e+05  6.11379587e+05  6.55255147e+05  7.02279779e+05\n",
      "  7.52679503e+05  8.06696560e+05  8.64590581e+05  9.26639827e+05\n",
      "  9.93142533e+05  1.06441834e+06  1.14080983e+06  1.22268417e+06\n",
      "  1.31043489e+06  1.40448376e+06  1.50528281e+06  1.61331652e+06\n",
      "  1.72910416e+06  1.85320225e+06  1.98620727e+06  2.12875848e+06\n",
      "  2.28154106e+06  2.44528935e+06  2.62079039e+06  2.80888771e+06\n",
      "  3.01048541e+06  3.22655244e+06  3.45812732e+06  3.70632311e+06\n",
      "  3.97233273e+06  4.25743476e+06  4.56299952e+06  4.89049570e+06\n",
      "  5.24149737e+06  5.61769163e+06  6.02088662e+06  6.45302028e+06\n",
      "  6.91616965e+06  7.41256081e+06  7.94457967e+06  8.51478333e+06\n",
      "  9.12591245e+06  9.78090439e+06  1.04829073e+07  1.12352955e+07\n",
      "  1.20416850e+07  1.29059520e+07  1.38322503e+07  1.48250322e+07\n",
      "  1.58890695e+07  1.70294765e+07  1.82517343e+07  1.95617178e+07\n",
      "  2.09657233e+07  2.24704991e+07  2.40832779e+07  2.58118113e+07\n",
      "  2.76644076e+07  2.96499711e+07  3.17780453e+07  3.40588587e+07\n",
      "  3.65033740e+07  3.91233406e+07  4.19313512e+07  4.49409024e+07\n",
      "  4.81664596e+07  5.16235261e+07  5.53287182e+07  5.92998447e+07\n",
      "  6.35559927e+07  6.81176192e+07  7.30066494e+07  7.82465821e+07\n",
      "  8.38626030e+07  8.98817051e+07  9.63328189e+07  1.03246952e+08\n",
      "  1.10657335e+08  1.18599588e+08  1.27111884e+08  1.36235136e+08\n",
      "  1.46013196e+08  1.56493061e+08  1.67725103e+08  1.79763306e+08\n",
      "  1.92665534e+08  2.06493798e+08  2.21314566e+08  2.37199071e+08\n",
      "  2.54223662e+08  2.72470166e+08  2.92026286e+08  3.12986016e+08\n",
      "  3.35450098e+08  3.59526505e+08  3.85330959e+08  4.12987488e+08\n",
      "  4.42629022e+08  4.74398032e+08  5.08447213e+08  5.44940222e+08\n",
      "  5.84052461e+08  6.25971920e+08  6.70900084e+08  7.19052898e+08\n",
      "  7.70661806e+08  8.25974864e+08  8.85257932e+08  9.48795950e+08\n",
      "  1.01689431e+09  1.08988033e+09  1.16810481e+09  1.25194373e+09\n",
      "  1.34180005e+09  1.43810568e+09  1.54132350e+09  1.65194961e+09\n",
      "  1.77051575e+09  1.89759178e+09  2.03378851e+09  2.17976054e+09\n",
      "  2.33620950e+09  2.50388733e+09  2.68359999e+09  2.87621124e+09\n",
      "  3.08264687e+09  3.30389910e+09  3.54103137e+09  3.79518345e+09\n",
      "  4.06757689e+09  4.35952096e+09  4.67241887e+09  5.00777454e+09\n",
      "  5.36719985e+09  5.75242236e+09  6.16529362e+09  6.60779808e+09\n",
      "  7.08206262e+09  7.59036677e+09  8.13515366e+09  8.71904180e+09\n",
      "  9.34483761e+09  1.00155490e+10  1.07343996e+10  1.15048446e+10\n",
      "  1.23305871e+10  1.32155960e+10  1.41641251e+10  1.51807334e+10\n",
      "  1.62703072e+10  1.74380835e+10  1.86896751e+10  2.00310978e+10\n",
      "  2.14687990e+10  2.30096890e+10  2.46611741e+10  2.64311919e+10\n",
      "  2.83282501e+10  3.03614667e+10  3.25406143e+10  3.48761668e+10\n",
      "  3.73793500e+10  4.00621954e+10  4.29375979e+10  4.60193779e+10\n",
      "  4.93223480e+10  5.28623837e+10  5.66565000e+10  6.07229332e+10\n",
      "  6.50812284e+10  6.97523335e+10  7.47586999e+10  8.01243907e+10\n",
      "  8.58751956e+10  9.20387558e+10  9.86446959e+10  1.05724767e+11\n",
      "  1.13313000e+11  1.21445866e+11  1.30162457e+11  1.39504667e+11\n",
      "  1.49517400e+11  1.60248781e+11  1.71750391e+11  1.84077511e+11\n",
      "  1.97289392e+11  2.11449534e+11  2.26626000e+11  2.42891732e+11\n",
      "  2.60324913e+11  2.79009333e+11  2.99034799e+11  3.20497562e+11\n",
      "  3.43500782e+11  3.68155023e+11  3.94578783e+11  4.22899069e+11\n",
      "  4.53251999e+11  4.85783465e+11  5.20649826e+11  5.58018667e+11\n",
      "  5.98069599e+11  6.40995124e+11  6.87001564e+11  7.36310045e+11\n",
      "  7.89157566e+11  8.45798137e+11  9.06503998e+11  9.71566929e+11\n",
      "  1.04129965e+12  1.11603733e+12  1.19613920e+12  1.28199025e+12\n",
      "  1.37400313e+12  1.47262009e+12  1.57831513e+12  1.69159627e+12\n",
      "  1.81300800e+12  1.94313386e+12  2.08259930e+12  2.23207467e+12\n",
      "  2.39227839e+12  2.56398050e+12  2.74800626e+12  2.94524018e+12\n",
      "  3.15663027e+12  3.38319255e+12  3.62601599e+12  3.88626772e+12\n",
      "  4.16519861e+12  4.46414933e+12  4.78455679e+12  5.12796099e+12\n",
      "  5.49601251e+12  5.89048036e+12  6.31326053e+12  6.76638510e+12\n",
      "  7.25203199e+12  7.77253543e+12  8.33039721e+12  8.92829866e+12\n",
      "  9.56911357e+12  1.02559220e+13  1.09920250e+13  1.17809607e+13\n",
      "  1.26265211e+13  1.35327702e+13  1.45040640e+13  1.55450709e+13\n",
      "  1.66607944e+13  1.78565973e+13  1.91382271e+13  2.05118440e+13\n",
      "  2.19840500e+13  2.35619214e+13  2.52530421e+13  2.70655404e+13\n",
      "  2.90081279e+13  3.10901417e+13  3.33215888e+13  3.57131947e+13\n",
      "  3.82764543e+13  4.10236880e+13  4.39681001e+13  4.71238429e+13\n",
      "  5.05060842e+13  5.41310808e+13  5.80162559e+13  6.21802835e+13\n",
      "  6.66431777e+13  7.14263893e+13  7.65529086e+13  8.20473759e+13\n",
      "  8.79362002e+13  9.42476857e+13  1.01012168e+14  1.08262162e+14\n",
      "  1.16032512e+14  1.24360567e+14  1.33286355e+14  1.42852779e+14\n",
      "  1.53105817e+14  1.64094752e+14  1.75872400e+14  1.88495371e+14\n",
      "  2.02024337e+14  2.16524323e+14  2.32065024e+14  2.48721134e+14\n",
      "  2.66572711e+14  2.85705557e+14  3.06211634e+14  3.28189504e+14\n",
      "  3.51744801e+14  3.76990743e+14  4.04048674e+14  4.33048646e+14\n",
      "  4.64130047e+14  4.97442268e+14  5.33145422e+14  5.71411115e+14\n",
      "  6.12423269e+14  6.56379007e+14  7.03489601e+14  7.53981486e+14]\n"
     ]
    }
   ],
   "source": [
    "def function_2(x):\n",
    "    return 2*x**2+2**x\n",
    "\n",
    "array_xy_2, gradient2 = mk_grad(function_2, x=np.arange(-50,50.1,0.1))\n",
    "print(gradient2)"
   ]
  },
  {
   "cell_type": "code",
   "execution_count": 39,
   "metadata": {},
   "outputs": [
    {
     "ename": "NameError",
     "evalue": "name 'plt' is not defined",
     "output_type": "error",
     "traceback": [
      "\u001b[0;31m---------------------------------------------------------------------------\u001b[0m",
      "\u001b[0;31mNameError\u001b[0m                                 Traceback (most recent call last)",
      "\u001b[0;32m<ipython-input-39-9b36c029353e>\u001b[0m in \u001b[0;36m<module>\u001b[0;34m\u001b[0m\n\u001b[0;32m----> 1\u001b[0;31m \u001b[0mplt\u001b[0m\u001b[0;34m.\u001b[0m\u001b[0mplot\u001b[0m\u001b[0;34m(\u001b[0m\u001b[0mx\u001b[0m\u001b[0;34m,\u001b[0m \u001b[0mfunction_2\u001b[0m\u001b[0;34m(\u001b[0m\u001b[0mx\u001b[0m\u001b[0;34m)\u001b[0m\u001b[0;34m)\u001b[0m\u001b[0;34m\u001b[0m\u001b[0;34m\u001b[0m\u001b[0m\n\u001b[0m\u001b[1;32m      2\u001b[0m \u001b[0mplt\u001b[0m\u001b[0;34m.\u001b[0m\u001b[0mplot\u001b[0m\u001b[0;34m(\u001b[0m\u001b[0mnp\u001b[0m\u001b[0;34m.\u001b[0m\u001b[0marange\u001b[0m\u001b[0;34m(\u001b[0m\u001b[0;34m-\u001b[0m\u001b[0;36m50\u001b[0m\u001b[0;34m,\u001b[0m\u001b[0;36m50\u001b[0m\u001b[0;34m,\u001b[0m\u001b[0;36m0.1\u001b[0m\u001b[0;34m)\u001b[0m\u001b[0;34m,\u001b[0m \u001b[0mgradient2\u001b[0m\u001b[0;34m)\u001b[0m\u001b[0;34m\u001b[0m\u001b[0;34m\u001b[0m\u001b[0m\n\u001b[1;32m      3\u001b[0m \u001b[0mplt\u001b[0m\u001b[0;34m.\u001b[0m\u001b[0mlegend\u001b[0m\u001b[0;34m(\u001b[0m\u001b[0;34m)\u001b[0m\u001b[0;34m\u001b[0m\u001b[0;34m\u001b[0m\u001b[0m\n\u001b[1;32m      4\u001b[0m \u001b[0mplt\u001b[0m\u001b[0;34m.\u001b[0m\u001b[0mshow\u001b[0m\u001b[0;34m(\u001b[0m\u001b[0;34m)\u001b[0m\u001b[0;34m\u001b[0m\u001b[0;34m\u001b[0m\u001b[0m\n",
      "\u001b[0;31mNameError\u001b[0m: name 'plt' is not defined"
     ]
    }
   ],
   "source": [
    "plt.plot(x, function_2(x))\n",
    "plt.plot(np.arange(-50,50,0.1), gradient2)\n",
    "plt.legend()\n",
    "plt.show()"
   ]
  },
  {
   "cell_type": "code",
   "execution_count": 40,
   "metadata": {},
   "outputs": [
    {
     "name": "stdout",
     "output_type": "stream",
     "text": [
      "[ 3.10983593  1.21471246  0.88289461  0.70382818  0.58509822  0.49790931\n",
      "  0.42981792  0.37440988  0.32798246  0.28822088  0.25358943  0.22302116\n",
      "  0.19574695  0.17119528  0.14893067  0.12861407  0.10997661  0.09280164\n",
      "  0.07691215  0.06216165  0.04842763  0.03560657  0.02361022  0.01236276\n",
      "  0.00179852 -0.0081397  -0.0175021  -0.02633292 -0.03467143 -0.04255257\n",
      " -0.05000765 -0.05706481 -0.06374942 -0.07008447 -0.07609087 -0.08178766\n",
      " -0.08719228 -0.09232071 -0.09718765 -0.10180666 -0.10619028 -0.11035011\n",
      " -0.11429694 -0.1180408  -0.12159105 -0.12495641 -0.12814507 -0.13116469\n",
      " -0.13402246 -0.13672515 -0.13927913 -0.14169041 -0.14396467 -0.14610726\n",
      " -0.14812328 -0.15001753 -0.15179459 -0.1534588  -0.15501429 -0.15646499\n",
      " -0.15781464 -0.15906682 -0.16022494 -0.16129226 -0.16227191 -0.16316685\n",
      " -0.16397996 -0.16471397 -0.16537151 -0.16595511 -0.16646718 -0.16691006\n",
      " -0.16728599 -0.16759713 -0.16784555 -0.16803325 -0.16816216 -0.16823415\n",
      " -0.16825101 -0.16821448 -0.16812622 -0.16798786 -0.16780096 -0.16756703\n",
      " -0.16728755 -0.16696392 -0.16659753 -0.1661897  -0.16574172 -0.16525485\n",
      " -0.16473029 -0.16416922 -0.16357278 -0.16294208 -0.1622782  -0.16158217\n",
      " -0.16085503 -0.16009775 -0.15931129 -0.15849659 -0.15765456 -0.15678607\n",
      " -0.15589199 -0.15497315 -0.15403036 -0.15306443 -0.15207612 -0.15106618\n",
      " -0.15003534 -0.14898433 -0.14791383 -0.14682452 -0.14571707 -0.14459213\n",
      " -0.14345031 -0.14229223 -0.1411185  -0.13992969 -0.13872638 -0.13750913\n",
      " -0.13627846 -0.13503493 -0.13377903 -0.13251129 -0.13123219 -0.12994221\n",
      " -0.12864182 -0.1273315  -0.12601167 -0.12468279 -0.12334528 -0.12199957\n",
      " -0.12064605 -0.11928513 -0.11791721 -0.11654266 -0.11516186 -0.11377518\n",
      " -0.11238296 -0.11098556 -0.10958333 -0.10817659 -0.10676568 -0.1053509\n",
      " -0.10393258 -0.10251102 -0.10108651 -0.09965935 -0.09822983 -0.09679821\n",
      " -0.09536479 -0.09392981 -0.09249356 -0.09105627 -0.08961819 -0.08817959\n",
      " -0.08674068 -0.08530171 -0.0838629  -0.08242448 -0.08098666 -0.07954967\n",
      " -0.0781137  -0.07667896 -0.07524565 -0.07381397 -0.07238411 -0.07095625\n",
      " -0.06953058 -0.06810727 -0.06668651 -0.06526845 -0.06385326 -0.06244112\n",
      " -0.06103217 -0.05962658 -0.05822449 -0.05682605 -0.05543141 -0.05404071\n",
      " -0.05265409 -0.05127168 -0.04989362 -0.04852003 -0.04715104 -0.04578676\n",
      " -0.04442734 -0.04307286 -0.04172347 -0.04037925 -0.03904033 -0.0377068\n",
      " -0.03637878 -0.03505636 -0.03373964 -0.03242871 -0.03112367 -0.02982461\n",
      " -0.02853162 -0.02724479 -0.02596419 -0.02468991 -0.02342203 -0.02216062\n",
      " -0.02090577 -0.01965754 -0.018416   -0.01718123 -0.01595329 -0.01473225\n",
      " -0.01351817 -0.01231111 -0.01111112 -0.00991828 -0.00873263 -0.00755423\n",
      " -0.00638312 -0.00521937 -0.00406302 -0.00291412 -0.00177271 -0.00063884\n",
      "  0.00048745  0.00160612  0.00271712  0.00382043  0.004916    0.0060038\n",
      "  0.00708379  0.00815594  0.00922022  0.0102766   0.01132506  0.01236555\n",
      "  0.01339807  0.01442258  0.01543905  0.01644748  0.01744782  0.01844008\n",
      "  0.01942422  0.02040022  0.02136808  0.02232778  0.02327929  0.02422262\n",
      "  0.02515774  0.02608464  0.02700331  0.02791375  0.02881594  0.02970988\n",
      "  0.03059555  0.03147297  0.03234211  0.03320297  0.03405556  0.03489986\n",
      "  0.03573589  0.03656363  0.03738309  0.03819426  0.03899715  0.03979177\n",
      "  0.04057811  0.04135618  0.04212598  0.04288753  0.04364081  0.04438585\n",
      "  0.04512265  0.04585121  0.04657155  0.04728367  0.04798759  0.04868331\n",
      "  0.04937086  0.05005022  0.05072143  0.0513845   0.05203943  0.05268624\n",
      "  0.05332495  0.05395557  0.05457812  0.05519261  0.05579905  0.05639748\n",
      "  0.0569879   0.05757033  0.0581448   0.05871131  0.0592699   0.05982057\n",
      "  0.06036336  0.06089828  0.06142535  0.06194459  0.06245603  0.06295969\n",
      "  0.06345559  0.06394375  0.0644242   0.06489697  0.06536207  0.06581954\n",
      "  0.06626939  0.06671165  0.06714635  0.06757351  0.06799316  0.06840533\n",
      "  0.06881004  0.06920732  0.0695972   0.06997971  0.07035487  0.07072271\n",
      "  0.07108326  0.07143656  0.07178262  0.07212148  0.07245316  0.07277771\n",
      "  0.07309514  0.07340549  0.07370878  0.07400506  0.07429435  0.07457667\n",
      "  0.07485207  0.07512057  0.07538221  0.07563702  0.07588502  0.07612626\n",
      "  0.07636076  0.07658855  0.07680968  0.07702417  0.07723205  0.07743336\n",
      "  0.07762814  0.0778164   0.0779982   0.07817356  0.07834251  0.0785051\n",
      "  0.07866135  0.07881129  0.07895497  0.07909242  0.07922366  0.07934875\n",
      "  0.0794677   0.07958056  0.07968736  0.07978814  0.07988292  0.07997175\n",
      "  0.08005466  0.08013169  0.08020287  0.08026823  0.08032781  0.08038166\n",
      "  0.08042979  0.08047226  0.08050908  0.08054031  0.08056597  0.0805861\n",
      "  0.08060074  0.08060993  0.08061369  0.08061206  0.08060509  0.0805928\n",
      "  0.08057523  0.08055243  0.08052441  0.08049123  0.08045291  0.08040949\n",
      "  0.08036101  0.08030751  0.08024901  0.08018557  0.0801172   0.08004395\n",
      "  0.07996585  0.07988295  0.07979527  0.07970285  0.07960573  0.07950394\n",
      "  0.07939752  0.07928651  0.07917094  0.07905085  0.07892626  0.07879723\n",
      "  0.07866378  0.07852595  0.07838377  0.07823729  0.07808653  0.07793153\n",
      "  0.07777233  0.07760896  0.07744147  0.07726987  0.07709421  0.07691453\n",
      "  0.07673085  0.07654322  0.07635167  0.07615623  0.07595694  0.07575384\n",
      "  0.07554695  0.07533632  0.07512197  0.07490395  0.07468228  0.07445701\n",
      "  0.07422816  0.07399577  0.07375987  0.07352051  0.0732777   0.0730315\n",
      "  0.07278192  0.07252901  0.07227279  0.07201331  0.07175059  0.07148467\n",
      "  0.07121559  0.07094337  0.07066805  0.07038966  0.07010823  0.06982381\n",
      "  0.06953641  0.06924608  0.06895285  0.06865674  0.0683578   0.06805605\n",
      "  0.06775152  0.06744426  0.06713429  0.06682164  0.06650634  0.06618843\n",
      "  0.06586794  0.0655449   0.06521934  0.0648913   0.06456079  0.06422787\n",
      "  0.06389255  0.06355487  0.06321485  0.06287254  0.06252796  0.06218113\n",
      "  0.0618321   0.06148089  0.06112753  0.06077206  0.06041449  0.06005487\n",
      "  0.05969322  0.05932957  0.05896395  0.05859639  0.05822692  0.05785558\n",
      "  0.05748237  0.05710735  0.05673053  0.05635195  0.05597163  0.0555896\n",
      "  0.05520589  0.05482053  0.05443355  0.05404497  0.05365483  0.05326315\n",
      "  0.05286995  0.05247527  0.05207914  0.05168157  0.05128261  0.05088227\n",
      "  0.05048058  0.05007757]\n"
     ]
    }
   ],
   "source": [
    "def function_3(x):\n",
    "    return np.sin(x**0.5)\n",
    "\n",
    "array_xy_3, gradient3 = mk_grad(function_3, x=np.arange(0,50.1,0.1))\n",
    "print(gradient3)"
   ]
  },
  {
   "cell_type": "code",
   "execution_count": 44,
   "metadata": {},
   "outputs": [
    {
     "data": {
      "text/plain": [
       "<Figure size 640x480 with 1 Axes>"
      ]
     },
     "metadata": {},
     "output_type": "display_data"
    }
   ],
   "source": [
    "import matplotlib.pyplot as plt\n",
    "plt.plot(np.arange(0,50.1,0.1),function_3(np.arange(0,50.1,0.1)))\n",
    "plt.plot(np.arange(0,50,0.1),gradient3)\n",
    "plt.show()"
   ]
  },
  {
   "cell_type": "markdown",
   "metadata": {},
   "source": [
    "## 【問題6】最小値を求める"
   ]
  },
  {
   "cell_type": "code",
   "execution_count": 47,
   "metadata": {},
   "outputs": [
    {
     "name": "stdout",
     "output_type": "stream",
     "text": [
      "最小値をとるインデックスは500\n",
      "最小値は5.048709793414476e-25\n",
      "最小のyをとる前の勾配は-0.09999999999858034\n",
      "最小のyを取った後の勾配は0.1000000000014225\n"
     ]
    }
   ],
   "source": [
    "'''\n",
    "■１つ目の式\n",
    "'''\n",
    "x=np.arange(-50,50.1,0.1)\n",
    "y=function_1(x)\n",
    "idx = y.argmin()\n",
    "before_min = (function_1(x[idx]) - function_1(x[idx-1])) / (x[idx] - x[idx-1])\n",
    "after_min = (function_1(x[idx+1]) - function_1(x[idx]))/(x[idx+1]-x[idx])\n",
    "\n",
    "print(\"最小値をとるインデックスは{}\".format(idx))\n",
    "print(\"最小値は{}\".format(np.ndarray.min(y)))\n",
    "print(\"最小のyをとる前の勾配は{}\".format(before_min))\n",
    "print(\"最小のyを取った後の勾配は{}\".format(after_min))"
   ]
  },
  {
   "cell_type": "code",
   "execution_count": 58,
   "metadata": {},
   "outputs": [
    {
     "name": "stdout",
     "output_type": "stream",
     "text": [
      "最小値をとるインデックスは498\n",
      "最小値は0.9505505632959851\n",
      "最小のyをとる前の勾配は-0.4170183305979998\n",
      "最小のyを取った後の勾配は0.024824282409972788\n"
     ]
    }
   ],
   "source": [
    "'''\n",
    "■2つ目の式\n",
    "'''\n",
    "y2 = function_2(x)\n",
    "idx2 = y2.argmin()\n",
    "before_min2=(function_2(x[idx2])-function_2(x[idx2-1]))/(x[idx2]-x[idx2-1])\n",
    "after_min2=(function_2(x[idx2+1])-function_2(x[idx2]))/(x[idx2+1]-x[idx2])\n",
    "print(\"最小値をとるインデックスは{}\".format(idx2))\n",
    "print(\"最小値は{}\".format(np.ndarray.min(y2)))\n",
    "print(\"最小のyをとる前の勾配は{}\".format(before_min2))\n",
    "print(\"最小のyを取った後の勾配は{}\".format(after_min2))"
   ]
  },
  {
   "cell_type": "code",
   "execution_count": 61,
   "metadata": {},
   "outputs": [
    {
     "name": "stdout",
     "output_type": "stream",
     "text": [
      "最小値をとるインデックスは222\n",
      "最小値は-0.9999997540298113\n",
      "最小のyをとる前の勾配は-1.2751342434220692e-06\n",
      "最小のyを取った後の勾配は9.72949686758663e-07\n"
     ]
    }
   ],
   "source": [
    "'''\n",
    "■3つ目の式\n",
    "'''\n",
    "x2 = np.arange(0,50.1,0.1)\n",
    "y3 = function_3(x2)\n",
    "idx3 = y3.argmin()\n",
    "before_min3=(function_3(x2[idx3])-function_3(x2[idx3-1]))/(x2[idx3]-x[idx3-1])\n",
    "after_min3=(function_3(x2[idx3+1])-function_3(x2[idx3]))/(x2[idx3+1]-x[idx3])\n",
    "print(\"最小値をとるインデックスは{}\".format(idx3))\n",
    "print(\"最小値は{}\".format(np.ndarray.min(y3)))\n",
    "print(\"最小のyをとる前の勾配は{}\".format(before_min3))\n",
    "print(\"最小のyを取った後の勾配は{}\".format(after_min3))"
   ]
  },
  {
   "cell_type": "code",
   "execution_count": null,
   "metadata": {},
   "outputs": [],
   "source": []
  }
 ],
 "metadata": {
  "kernelspec": {
   "display_name": "Python 3",
   "language": "python",
   "name": "python3"
  },
  "language_info": {
   "codemirror_mode": {
    "name": "ipython",
    "version": 3
   },
   "file_extension": ".py",
   "mimetype": "text/x-python",
   "name": "python",
   "nbconvert_exporter": "python",
   "pygments_lexer": "ipython3",
   "version": "3.7.3"
  }
 },
 "nbformat": 4,
 "nbformat_minor": 2
}
