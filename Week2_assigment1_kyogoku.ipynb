{
 "cells": [
  {
   "cell_type": "markdown",
   "metadata": {},
   "source": [
    "# ■第2週_授業前課題1_小麦とチェス盤問題"
   ]
  },
  {
   "cell_type": "code",
   "execution_count": 2,
   "metadata": {},
   "outputs": [
    {
     "name": "stdout",
     "output_type": "stream",
     "text": [
      "4マスの坂に小麦を並べる(リスト):[1, 2, 4, 8]\n"
     ]
    }
   ],
   "source": [
    "#<<サンプルコード>>\n",
    "n_squares = 4\n",
    "small_board_list = [1]\n",
    "for _ in range(n_squares - 1):\n",
    "    small_board_list.append(2*small_board_list[-1])\n",
    "print(\"4マスの坂に小麦を並べる(リスト):{}\".format(small_board_list))"
   ]
  },
  {
   "cell_type": "code",
   "execution_count": 128,
   "metadata": {},
   "outputs": [
    {
     "name": "stdout",
     "output_type": "stream",
     "text": [
      "4マスの板に小麦を並べる（ndarray）：[1 2 4 8]\n"
     ]
    }
   ],
   "source": [
    "import numpy as np\n",
    "\n",
    "small_board_ndarray = np.array(small_board_list)\n",
    "print(\"4マスの板に小麦を並べる（ndarray）：{}\".format(small_board_ndarray))"
   ]
  },
  {
   "cell_type": "markdown",
   "metadata": {},
   "source": [
    "## 【問題1】2×2マスのチェス盤の小麦の数"
   ]
  },
  {
   "cell_type": "code",
   "execution_count": 4,
   "metadata": {},
   "outputs": [
    {
     "data": {
      "text/plain": [
       "array([[1, 2],\n",
       "       [4, 8]])"
      ]
     },
     "execution_count": 4,
     "metadata": {},
     "output_type": "execute_result"
    }
   ],
   "source": [
    "small_board_ndarray.reshape(2,2)"
   ]
  },
  {
   "cell_type": "code",
   "execution_count": 5,
   "metadata": {},
   "outputs": [
    {
     "data": {
      "text/plain": [
       "15"
      ]
     },
     "execution_count": 5,
     "metadata": {},
     "output_type": "execute_result"
    }
   ],
   "source": [
    "#各マスの合計値su\n",
    "np.sum(small_board_ndarray)"
   ]
  },
  {
   "cell_type": "markdown",
   "metadata": {},
   "source": [
    "## 【問題2】n×mマスへの拡張"
   ]
  },
  {
   "cell_type": "code",
   "execution_count": 203,
   "metadata": {},
   "outputs": [
    {
     "data": {
      "text/plain": [
       "array([[                  1,                   2,                   4,\n",
       "                          8,                  16,                  32,\n",
       "                         64,                 128],\n",
       "       [                256,                 512,                1024,\n",
       "                       2048,                4096,                8192,\n",
       "                      16384,               32768],\n",
       "       [              65536,              131072,              262144,\n",
       "                     524288,             1048576,             2097152,\n",
       "                    4194304,             8388608],\n",
       "       [           16777216,            33554432,            67108864,\n",
       "                  134217728,           268435456,           536870912,\n",
       "                 1073741824,          2147483648],\n",
       "       [         4294967296,          8589934592,         17179869184,\n",
       "                34359738368,         68719476736,        137438953472,\n",
       "               274877906944,        549755813888],\n",
       "       [      1099511627776,       2199023255552,       4398046511104,\n",
       "              8796093022208,      17592186044416,      35184372088832,\n",
       "             70368744177664,     140737488355328],\n",
       "       [    281474976710656,     562949953421312,    1125899906842624,\n",
       "           2251799813685248,    4503599627370496,    9007199254740992,\n",
       "          18014398509481984,   36028797018963968],\n",
       "       [  72057594037927936,  144115188075855872,  288230376151711744,\n",
       "         576460752303423488, 1152921504606846976, 2305843009213693952,\n",
       "        4611686018427387904, 9223372036854775808]], dtype=uint64)"
      ]
     },
     "execution_count": 203,
     "metadata": {},
     "output_type": "execute_result"
    }
   ],
   "source": [
    "def chess(lengh, width):\n",
    "    n_squaires = lengh*width\n",
    "    board_list=[1]\n",
    "    for _ in range(n_squaires - 1):\n",
    "        board_list.append(2*board_list[-1])\n",
    "    board_ndarray = np.array(board_list, dtype = 'uint64')\n",
    "    development = board_ndarray.reshape(lengh, width)\n",
    "    return development\n",
    "\n",
    "# 8×8マスのチェス盤の小麦の数\n",
    "chess(8,8)"
   ]
  },
  {
   "cell_type": "markdown",
   "metadata": {},
   "source": [
    "## 【問題3】小麦の数の合計"
   ]
  },
  {
   "cell_type": "code",
   "execution_count": 25,
   "metadata": {},
   "outputs": [
    {
     "name": "stdout",
     "output_type": "stream",
     "text": [
      "1.8446744073709552e+19\n"
     ]
    }
   ],
   "source": [
    "#8×8マスのチェス盤の小麦の数の合計\n",
    "array = chess(8,8)\n",
    "print(np.sum(array))"
   ]
  },
  {
   "cell_type": "code",
   "execution_count": 8,
   "metadata": {},
   "outputs": [
    {
     "data": {
      "text/plain": [
       "array([3.18750000e+01, 8.16000000e+03, 2.08896000e+06, 5.34773760e+08,\n",
       "       1.36902083e+11, 3.50469331e+13, 8.97201488e+15, 2.29683581e+18])"
      ]
     },
     "execution_count": 8,
     "metadata": {},
     "output_type": "execute_result"
    }
   ],
   "source": [
    "#各列の平均\n",
    "np.mean(array,axis=1)"
   ]
  },
  {
   "cell_type": "code",
   "execution_count": 9,
   "metadata": {},
   "outputs": [
    {
     "data": {
      "image/png": "[encoded data removed]",
      "text/plain": [
       "<Figure size 432x288 with 1 Axes>"
      ]
     },
     "metadata": {
      "needs_background": "light"
     },
     "output_type": "display_data"
    }
   ],
   "source": [
    "#棒グラフ\n",
    "row_average = np.mean(array,axis=1)\n",
    "import matplotlib.pyplot as plt\n",
    "%matplotlib inline\n",
    "\n",
    "plt.xlabel(\"row_number\")\n",
    "plt.ylabel(\"average_number\")\n",
    "plt.title(\"Each lines average number\")\n",
    "plt.bar(np.arange(1,9), row_average)\n",
    "plt.show()"
   ]
  },
  {
   "cell_type": "markdown",
   "metadata": {},
   "source": [
    "## 【問題4】小麦の数のヒートマップ"
   ]
  },
  {
   "cell_type": "code",
   "execution_count": 10,
   "metadata": {},
   "outputs": [
    {
     "data": {
      "image/png": "[encoded data removed]",
      "text/plain": [
       "<Figure size 432x288 with 1 Axes>"
      ]
     },
     "metadata": {
      "needs_background": "light"
     },
     "output_type": "display_data"
    }
   ],
   "source": [
    "plt.xlabel(\"column\")\n",
    "plt.ylabel(\"row\")\n",
    "plt.title(\"heatmap\")\n",
    "plt.pcolor(array)\n",
    "ax = plt.gca()\n",
    "ax.invert_yaxis()\n",
    "plt.show()"
   ]
  },
  {
   "cell_type": "markdown",
   "metadata": {},
   "source": [
    "## 【問題5】後半は前半の何倍か"
   ]
  },
  {
   "cell_type": "code",
   "execution_count": 39,
   "metadata": {},
   "outputs": [
    {
     "name": "stdout",
     "output_type": "stream",
     "text": [
      "チェス版の後半にある小麦の数は前半の4294967296倍\n"
     ]
    }
   ],
   "source": [
    "#各業の和を出す\n",
    "the_sum  = np.sum(array, axis=1)\n",
    "double = sum(the_sum[4:9])/sum(the_sum[0:4])\n",
    "print(\"チェス版の後半にある小麦の数は前半の{:.0f}倍\".format(double))"
   ]
  },
  {
   "cell_type": "markdown",
   "metadata": {},
   "source": [
    "## 【問題6】他の計算方法によるn×mマスへの拡張"
   ]
  },
  {
   "cell_type": "markdown",
   "metadata": {},
   "source": [
    "### ▼ndarray"
   ]
  },
  {
   "cell_type": "code",
   "execution_count": 194,
   "metadata": {},
   "outputs": [
    {
     "data": {
      "text/plain": [
       "array([[                  1,                   2,                   4,\n",
       "                          8,                  16,                  32,\n",
       "                         64,                 128],\n",
       "       [                256,                 512,                1024,\n",
       "                       2048,                4096,                8192,\n",
       "                      16384,               32768],\n",
       "       [              65536,              131072,              262144,\n",
       "                     524288,             1048576,             2097152,\n",
       "                    4194304,             8388608],\n",
       "       [           16777216,            33554432,            67108864,\n",
       "                  134217728,           268435456,           536870912,\n",
       "                 1073741824,          2147483648],\n",
       "       [         4294967296,          8589934592,         17179869184,\n",
       "                34359738368,         68719476736,        137438953472,\n",
       "               274877906944,        549755813888],\n",
       "       [      1099511627776,       2199023255552,       4398046511104,\n",
       "              8796093022208,      17592186044416,      35184372088832,\n",
       "             70368744177664,     140737488355328],\n",
       "       [    281474976710656,     562949953421312,    1125899906842624,\n",
       "           2251799813685248,    4503599627370496,    9007199254740992,\n",
       "          18014398509481984,   36028797018963968],\n",
       "       [  72057594037927936,  144115188075855872,  288230376151711744,\n",
       "         576460752303423488, 1152921504606846976, 2305843009213693952,\n",
       "        4611686018427387904, 9223372036854775808]], dtype=uint64)"
      ]
     },
     "execution_count": 194,
     "metadata": {},
     "output_type": "execute_result"
    }
   ],
   "source": [
    "def nd_chess(length, width):\n",
    "    n_squares = length*width\n",
    "    small_board_ndarray = np.array([1],dtype = 'uint64')\n",
    "    for _ in range(n_squares - 1):\n",
    "        small_board_ndarray = np.append(small_board_ndarray,2*small_board_ndarray[-1] )\n",
    "        small_board_ndarray_convert = small_board_ndarray.astype(numpy.uint64)\n",
    "    develop = small_board_ndarray_convert.reshape(length, width)\n",
    "    return develop\n",
    "\n",
    "nd_chess(8,8)"
   ]
  },
  {
   "cell_type": "markdown",
   "metadata": {},
   "source": [
    "### ▼ブロードキャスト"
   ]
  },
  {
   "cell_type": "code",
   "execution_count": 119,
   "metadata": {},
   "outputs": [
    {
     "data": {
      "text/plain": [
       "array([[                  1,                   2,                   4,\n",
       "                          8,                  16,                  32,\n",
       "                         64,                 128],\n",
       "       [                256,                 512,                1024,\n",
       "                       2048,                4096,                8192,\n",
       "                      16384,               32768],\n",
       "       [              65536,              131072,              262144,\n",
       "                     524288,             1048576,             2097152,\n",
       "                    4194304,             8388608],\n",
       "       [           16777216,            33554432,            67108864,\n",
       "                  134217728,           268435456,           536870912,\n",
       "                 1073741824,          2147483648],\n",
       "       [         4294967296,          8589934592,         17179869184,\n",
       "                34359738368,         68719476736,        137438953472,\n",
       "               274877906944,        549755813888],\n",
       "       [      1099511627776,       2199023255552,       4398046511104,\n",
       "              8796093022208,      17592186044416,      35184372088832,\n",
       "             70368744177664,     140737488355328],\n",
       "       [    281474976710656,     562949953421312,    1125899906842624,\n",
       "           2251799813685248,    4503599627370496,    9007199254740992,\n",
       "          18014398509481984,   36028797018963968],\n",
       "       [  72057594037927936,  144115188075855872,  288230376151711744,\n",
       "         576460752303423488, 1152921504606846976, 2305843009213693952,\n",
       "        4611686018427387904, 9223372036854775808]], dtype=uint64)"
      ]
     },
     "execution_count": 119,
     "metadata": {},
     "output_type": "execute_result"
    }
   ],
   "source": [
    "def broad_chess(length,width):\n",
    "    n_squares = length*width\n",
    "    indices_of_squares = np.arange(n_squares).astype(np.uint64)\n",
    "    small_board_ndarray = 2**indices_of_squares\n",
    "    develop = small_board_ndarray.reshape(length, width)\n",
    "    return develop\n",
    "\n",
    "broad_chess(8,8)"
   ]
  },
  {
   "cell_type": "code",
   "execution_count": 64,
   "metadata": {},
   "outputs": [
    {
     "name": "stdout",
     "output_type": "stream",
     "text": [
      "4マスの板に小麦を並べる（ndarray）：[1 2 4 8]\n"
     ]
    }
   ],
   "source": [
    "n_squares = 4\n",
    "indices_of_squares = np.arange(n_squares)\n",
    "small_board_ndarray = 2**indices_of_squares\n",
    "\n",
    "print(\"4マスの板に小麦を並べる（ndarray）：{}\".format(small_board_ndarray))"
   ]
  },
  {
   "cell_type": "markdown",
   "metadata": {},
   "source": [
    "## 【問題7】計算時間の比較"
   ]
  },
  {
   "cell_type": "code",
   "execution_count": 204,
   "metadata": {},
   "outputs": [
    {
     "name": "stdout",
     "output_type": "stream",
     "text": [
      "17.1 µs ± 181 ns per loop (mean ± std. dev. of 7 runs, 100000 loops each)\n"
     ]
    }
   ],
   "source": [
    "%%timeit\n",
    "chess(8,8)"
   ]
  },
  {
   "cell_type": "code",
   "execution_count": 205,
   "metadata": {},
   "outputs": [
    {
     "name": "stdout",
     "output_type": "stream",
     "text": [
      "361 µs ± 16.3 µs per loop (mean ± std. dev. of 7 runs, 1000 loops each)\n"
     ]
    }
   ],
   "source": [
    "%%timeit\n",
    "nd_chess(8,8)"
   ]
  },
  {
   "cell_type": "code",
   "execution_count": 206,
   "metadata": {},
   "outputs": [
    {
     "name": "stdout",
     "output_type": "stream",
     "text": [
      "4.27 µs ± 180 ns per loop (mean ± std. dev. of 7 runs, 100000 loops each)\n"
     ]
    }
   ],
   "source": [
    "%%timeit\n",
    "broad_chess(8,8)"
   ]
  },
  {
   "cell_type": "markdown",
   "metadata": {},
   "source": [
    "### ■考察\n",
    "速さだとブロードキャスト>array>appendの順となりました"
   ]
  },
  {
   "cell_type": "code",
   "execution_count": null,
   "metadata": {},
   "outputs": [],
   "source": []
  }
 ],
 "metadata": {
  "kernelspec": {
   "display_name": "Python 3",
   "language": "python",
   "name": "python3"
  },
  "language_info": {
   "codemirror_mode": {
    "name": "ipython",
    "version": 3
   },
   "file_extension": ".py",
   "mimetype": "text/x-python",
   "name": "python",
   "nbconvert_exporter": "python",
   "pygments_lexer": "ipython3",
   "version": "3.7.3"
  }
 },
 "nbformat": 4,
 "nbformat_minor": 2
}
