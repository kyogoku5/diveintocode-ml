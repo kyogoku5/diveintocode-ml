{
 "cells": [
  {
   "cell_type": "markdown",
   "metadata": {},
   "source": [
    "# ■第1週 授業課題2"
   ]
  },
  {
   "cell_type": "markdown",
   "metadata": {},
   "source": [
    "## 【問題1】富士山を超える最小の折る回数"
   ]
  },
  {
   "cell_type": "code",
   "execution_count": 3,
   "metadata": {},
   "outputs": [
    {
     "name": "stdout",
     "output_type": "stream",
     "text": [
      "26\n",
      "[0.00016, 0.00032, 0.00064, 0.00128, 0.00256, 0.00512, 0.01024, 0.02048, 0.04096, 0.08192, 0.16384, 0.32768, 0.65536, 1.31072, 2.62144, 5.24288, 10.48576, 20.97152, 41.94304, 83.88608, 167.77216, 335.54432, 671.08864, 1342.17728, 2684.35456, 5368.70912]\n",
      "富士山を超える最小の折る回数は26回です\n"
     ]
    }
   ],
   "source": [
    "THICKNESS = 0.00008\n",
    "folded_thickness = THICKNESS\n",
    "thick = 1\n",
    "count = 0\n",
    "\n",
    "result = [] #配列で推移を見る\n",
    "while folded_thickness < 3776:\n",
    "    thick *= 2\n",
    "    folded_thickness = THICKNESS * thick\n",
    "    count += 1\n",
    "    result.append(folded_thickness)\n",
    "print(count)\n",
    "print(result)\n",
    "print('富士山を超える最小の折る回数は{}回です'.format(count))"
   ]
  },
  {
   "cell_type": "markdown",
   "metadata": {},
   "source": [
    "## 【問題2】任意の厚さに対応した関数を作成"
   ]
  },
  {
   "cell_type": "code",
   "execution_count": 9,
   "metadata": {},
   "outputs": [
    {
     "name": "stdout",
     "output_type": "stream",
     "text": [
      "最も近い太陽以外の恒星に到達するには、紙を69回折る必要がある\n"
     ]
    }
   ],
   "source": [
    "def folded_count(distance,def_chick):\n",
    "    thick = 1\n",
    "    folded_thickness = def_chick\n",
    "    count = 0\n",
    "    while folded_thickness < distance:\n",
    "        thick *= 2\n",
    "        folded_thickness = def_chick * thick\n",
    "        count += 1\n",
    "    return count\n",
    "\n",
    "\"\"\"\n",
    "■コメント\n",
    "1光年＝約9兆5000億km\n",
    "最も近い太陽以外の恒星は「プロキシマ・ケンタウリ」で距離は4.243光年\n",
    "\"\"\"\n",
    "distance_proxima =4.243 * 9500000000000000 #kmをメートルに\n",
    "count_proxima = folded_count(distance_proxima,0.00008)\n",
    "print(\"最も近い太陽以外の恒星に到達するには、紙を{}回折る必要がある\".format(count_proxima))"
   ]
  },
  {
   "cell_type": "markdown",
   "metadata": {},
   "source": [
    "## 【問題3】必要な紙の長さ"
   ]
  },
  {
   "cell_type": "code",
   "execution_count": 21,
   "metadata": {},
   "outputs": [
    {
     "name": "stdout",
     "output_type": "stream",
     "text": [
      "1,月に届くのに必要な紙の長さは3.240919444170781e+21メートルです\n",
      "2,富士山に届くのに必要な紙の長さは188646348487.24014メートルです。\n",
      "3,最も近い太陽以外の恒星に届くのに必要な紙の長さは長さは1.4595803601100348e+37メートルです。\n"
     ]
    }
   ],
   "source": [
    "import math\n",
    "def need_length(n,def_chick):\n",
    "    L = (math.pi*def_chick)*(2**n+4)*(2**n-1)/6\n",
    "    return L\n",
    "\n",
    "t_papper = 0.00008\n",
    "\"\"\"\n",
    "■月\n",
    "1光年＝約9兆5000億km\n",
    "最も近い太陽以外の恒星は「プロキシマ・ケンタウリ」で距離は4.243光年\n",
    "\"\"\"\n",
    "dist_moon = 384400000\n",
    "folded_count_moon = folded_count(dist_moon, t_papper)\n",
    "length_moon = need_length(folded_count_moon, t_papper)\n",
    "print('1,月に届くのに必要な紙の長さは{}メートルです'.format(length_moon))\n",
    "\n",
    "\"\"\"\n",
    "■富士山\n",
    "高さ3776m\n",
    "\"\"\"\n",
    "dist_fuji = 3776\n",
    "folded_count_fuji = folded_count(dist_fuji,t_papper)\n",
    "length_fuji = need_length(folded_count_fuji,t_papper)\n",
    "print('2,富士山に届くのに必要な紙の長さは{}メートルです。'.format(length_fuji))\n",
    "\n",
    "\"\"\"\n",
    "■最も近い太陽以外の恒星\n",
    "上記の問題２から69回折る必要性があることが分かる\n",
    "\"\"\"\n",
    "folded_count_proxima = 69\n",
    "length_proxima = need_length(folded_count_proxima,t_papper)\n",
    "print('3,最も近い太陽以外の恒星に届くのに必要な紙の長さは長さは{}メートルです。'.format(length_proxima))"
   ]
  },
  {
   "cell_type": "code",
   "execution_count": null,
   "metadata": {},
   "outputs": [],
   "source": []
  }
 ],
 "metadata": {
  "kernelspec": {
   "display_name": "Python 3",
   "language": "python",
   "name": "python3"
  },
  "language_info": {
   "codemirror_mode": {
    "name": "ipython",
    "version": 3
   },
   "file_extension": ".py",
   "mimetype": "text/x-python",
   "name": "python",
   "nbconvert_exporter": "python",
   "pygments_lexer": "ipython3",
   "version": "3.7.3"
  }
 },
 "nbformat": 4,
 "nbformat_minor": 2
}
